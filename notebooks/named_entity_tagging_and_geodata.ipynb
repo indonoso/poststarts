{
 "cells": [
  {
   "cell_type": "code",
   "execution_count": 1,
   "id": "0804b6ba-3192-47f0-8d96-c751b4b1b56b",
   "metadata": {
    "tags": []
   },
   "outputs": [],
   "source": [
    "import pandas as pd\n",
    "import transformers\n",
    "import requests\n",
    "import time\n",
    "import json\n",
    "import requests\n",
    "import time\n",
    "\n",
    "from tqdm import tqdm\n",
    "\n",
    "tqdm.pandas()"
   ]
  },
  {
   "cell_type": "markdown",
   "id": "438b767e-3dd9-4ab9-b41c-99ef6d8ba4f4",
   "metadata": {},
   "source": [
    "## Named entity tagging\n",
    "\n",
    "Load the wikineural named entity tagging model, which works for 9 languages, including dutch and french "
   ]
  },
  {
   "cell_type": "code",
   "execution_count": 2,
   "id": "df6afe42-fa83-46b5-bb2e-3861e637a19d",
   "metadata": {
    "tags": []
   },
   "outputs": [],
   "source": [
    "from transformers import AutoTokenizer, AutoModelForTokenClassification\n",
    "from transformers import pipeline\n",
    "\n",
    "tokenizer = AutoTokenizer.from_pretrained(\"Babelscape/wikineural-multilingual-ner\")\n",
    "model = AutoModelForTokenClassification.from_pretrained(\"Babelscape/wikineural-multilingual-ner\")"
   ]
  },
  {
   "cell_type": "markdown",
   "id": "d118a060-574b-4be9-bc97-b2a8542f4850",
   "metadata": {
    "tags": []
   },
   "source": [
    "the actual pipeline; `device=0` will run this on the GPU"
   ]
  },
  {
   "cell_type": "code",
   "execution_count": 3,
   "id": "8c4efd03-7efc-483e-a388-2243174eac1b",
   "metadata": {
    "tags": []
   },
   "outputs": [],
   "source": [
    "# changed to \"device = cpu\" for not having a discrete GPU \n",
    "ner = pipeline(\"ner\", model=model, tokenizer=tokenizer, aggregation_strategy=\"first\", device=\"cpu\")"
   ]
  },
  {
   "cell_type": "markdown",
   "id": "21bb6f48-9932-4530-8a46-af45c225a0d7",
   "metadata": {},
   "source": [
    "Example; *Diskmuide* is indeed tagged as a location, whereas *Wereldoorlog I* is tagged as miscellaneous"
   ]
  },
  {
   "cell_type": "code",
   "execution_count": 4,
   "id": "a9c66b5c-7539-4301-bc28-3aa8a5c79bc7",
   "metadata": {
    "tags": []
   },
   "outputs": [
    {
     "name": "stdout",
     "output_type": "stream",
     "text": [
      "[{'entity_group': 'LOC', 'score': 0.9867822, 'word': 'Diksmuide', 'start': 0, 'end': 9}, {'entity_group': 'MISC', 'score': 0.9712353, 'word': 'Wereldoorlog I', 'start': 11, 'end': 25}]\n"
     ]
    }
   ],
   "source": [
    "example = \"Diksmuide. Wereldoorlog I (1914-1918)\"\n",
    "\n",
    "ner_results = ner(example)\n",
    "print(ner_results)"
   ]
  },
  {
   "cell_type": "markdown",
   "id": "26a487d3-c5c7-4c36-a183-c9168ec15dc3",
   "metadata": {},
   "source": [
    "Let's apply this to our dataset"
   ]
  },
  {
   "cell_type": "code",
   "execution_count": 5,
   "id": "77e5ff8b-8014-4392-84d5-00da9aea6eb9",
   "metadata": {
    "tags": []
   },
   "outputs": [],
   "source": [
    "df = pd.read_csv('/Users/dawn/Desktop/hackathon/20230301_Postcards.csv')"
   ]
  },
  {
   "cell_type": "code",
   "execution_count": 6,
   "id": "90a6ce54",
   "metadata": {},
   "outputs": [
    {
     "data": {
      "text/html": [
       "<div>\n",
       "<style scoped>\n",
       "    .dataframe tbody tr th:only-of-type {\n",
       "        vertical-align: middle;\n",
       "    }\n",
       "\n",
       "    .dataframe tbody tr th {\n",
       "        vertical-align: top;\n",
       "    }\n",
       "\n",
       "    .dataframe thead th {\n",
       "        text-align: right;\n",
       "    }\n",
       "</style>\n",
       "<table border=\"1\" class=\"dataframe\">\n",
       "  <thead>\n",
       "    <tr style=\"text-align: right;\">\n",
       "      <th></th>\n",
       "      <th>MMS ID</th>\n",
       "      <th>Uniform title</th>\n",
       "      <th>Main title</th>\n",
       "      <th>Variant title</th>\n",
       "      <th>Place of publication</th>\n",
       "      <th>Publisher</th>\n",
       "      <th>Date</th>\n",
       "      <th>Material type</th>\n",
       "      <th>Colour</th>\n",
       "      <th>General note</th>\n",
       "      <th>Copyright status of physical object</th>\n",
       "      <th>Copyright status of digital object</th>\n",
       "      <th>Terms of use</th>\n",
       "      <th>Author (main entry)</th>\n",
       "      <th>Author (added entry)</th>\n",
       "      <th>Group title</th>\n",
       "      <th>Language</th>\n",
       "      <th>Country of publication</th>\n",
       "      <th>Resolver URL</th>\n",
       "      <th>Label (Library Call number)</th>\n",
       "    </tr>\n",
       "  </thead>\n",
       "  <tbody>\n",
       "    <tr>\n",
       "      <th>35447</th>\n",
       "      <td>9992739808601488</td>\n",
       "      <td>NaN</td>\n",
       "      <td>Musée Royal d'Anvers. Wouverman. Chasse à Courre</td>\n",
       "      <td>NaN</td>\n",
       "      <td>[lieu de publication inconnu]</td>\n",
       "      <td>[éditeur inconnu]</td>\n",
       "      <td>ca. 1910</td>\n",
       "      <td>Graphic</td>\n",
       "      <td>Brown</td>\n",
       "      <td>Titelgegevens ontleend aan prentkaart</td>\n",
       "      <td>public domain</td>\n",
       "      <td>available as open data</td>\n",
       "      <td>gebruiksvoorwaarden</td>\n",
       "      <td>NaN</td>\n",
       "      <td>Wouwerman, Philips 1619-1668 artist</td>\n",
       "      <td>België. Provincie Antwerpen. Prentkaarten ; Be...</td>\n",
       "      <td>fre</td>\n",
       "      <td>xx</td>\n",
       "      <td>http://resolver.libis.be/IE16593333/representa...</td>\n",
       "      <td>KU Leuven Libraries BCOL BRES GP102409</td>\n",
       "    </tr>\n",
       "  </tbody>\n",
       "</table>\n",
       "</div>"
      ],
      "text/plain": [
       "                 MMS ID Uniform title  \\\n",
       "35447  9992739808601488           NaN   \n",
       "\n",
       "                                             Main title Variant title  \\\n",
       "35447  Musée Royal d'Anvers. Wouverman. Chasse à Courre           NaN   \n",
       "\n",
       "                Place of publication          Publisher      Date  \\\n",
       "35447  [lieu de publication inconnu]  [éditeur inconnu]  ca. 1910   \n",
       "\n",
       "      Material type Colour                           General note  \\\n",
       "35447       Graphic  Brown  Titelgegevens ontleend aan prentkaart   \n",
       "\n",
       "      Copyright status of physical object Copyright status of digital object  \\\n",
       "35447                       public domain             available as open data   \n",
       "\n",
       "              Terms of use Author (main entry)  \\\n",
       "35447  gebruiksvoorwaarden                 NaN   \n",
       "\n",
       "                      Author (added entry)  \\\n",
       "35447  Wouwerman, Philips 1619-1668 artist   \n",
       "\n",
       "                                             Group title Language  \\\n",
       "35447  België. Provincie Antwerpen. Prentkaarten ; Be...      fre   \n",
       "\n",
       "      Country of publication  \\\n",
       "35447                     xx   \n",
       "\n",
       "                                            Resolver URL  \\\n",
       "35447  http://resolver.libis.be/IE16593333/representa...   \n",
       "\n",
       "                  Label (Library Call number)  \n",
       "35447  KU Leuven Libraries BCOL BRES GP102409  "
      ]
     },
     "execution_count": 6,
     "metadata": {},
     "output_type": "execute_result"
    }
   ],
   "source": [
    "df[df['Uniform title'].isnull()]"
   ]
  },
  {
   "cell_type": "markdown",
   "id": "0dcbd9f8-b896-4105-8d9e-842ae3e69721",
   "metadata": {},
   "source": [
    "One title is actually missing from the dataset; we'll just add it in, to make sure the model doesn't break"
   ]
  },
  {
   "cell_type": "code",
   "execution_count": 7,
   "id": "691cb788-8c83-47aa-b1d1-f800bf71bbe6",
   "metadata": {
    "tags": []
   },
   "outputs": [],
   "source": [
    "df.loc[35447, 'Uniform title'] = 'Antwerpen. Beelden en objecten. Koninklijk Museum voor Schone Kunsten'"
   ]
  },
  {
   "cell_type": "code",
   "execution_count": 8,
   "id": "5836258b",
   "metadata": {},
   "outputs": [
    {
     "data": {
      "text/plain": [
       "0"
      ]
     },
     "execution_count": 8,
     "metadata": {},
     "output_type": "execute_result"
    }
   ],
   "source": [
    "df['Uniform title'].isnull().sum()"
   ]
  },
  {
   "cell_type": "markdown",
   "id": "125d53b6-7468-4c5b-ab05-c27ade231c85",
   "metadata": {},
   "source": [
    "Apply to *Uniform title* and *Main title*, though we'll just use *Uniform title* for now for geo lookup (Main title often contains data that is more precise, but also is more messy).\n",
    "\n",
    "Note: if we were to batch these together in a dataset, this could be run more efficient (but doesn't take so long in the end, so won't bother)"
   ]
  },
  {
   "cell_type": "code",
   "execution_count": 9,
   "id": "7db310d9-64f8-40fd-816c-88f33bea5f67",
   "metadata": {
    "tags": []
   },
   "outputs": [
    {
     "name": "stderr",
     "output_type": "stream",
     "text": [
      "100%|██████████| 35650/35650 [1:24:52<00:00,  7.00it/s]  \n"
     ]
    }
   ],
   "source": [
    "df['uniform_ner'] =  df['Uniform title'].progress_apply(ner)"
   ]
  },
  {
   "cell_type": "code",
   "execution_count": 10,
   "id": "94cc46d3-25a4-4692-acee-61d780ce6ea8",
   "metadata": {
    "tags": []
   },
   "outputs": [
    {
     "data": {
      "text/plain": [
       "[{'entity_group': 'LOC',\n",
       "  'score': 0.9939957,\n",
       "  'word': 'Belœil',\n",
       "  'start': 0,\n",
       "  'end': 6},\n",
       " {'entity_group': 'LOC',\n",
       "  'score': 0.99763954,\n",
       "  'word': 'Gebouwen',\n",
       "  'start': 8,\n",
       "  'end': 16},\n",
       " {'entity_group': 'LOC',\n",
       "  'score': 0.9932414,\n",
       "  'word': 'Kastelen',\n",
       "  'start': 18,\n",
       "  'end': 26},\n",
       " {'entity_group': 'LOC',\n",
       "  'score': 0.7462085,\n",
       "  'word': 'Park',\n",
       "  'start': 28,\n",
       "  'end': 32}]"
      ]
     },
     "execution_count": 10,
     "metadata": {},
     "output_type": "execute_result"
    }
   ],
   "source": [
    "df['uniform_ner'][1]"
   ]
  },
  {
   "cell_type": "code",
   "execution_count": 24,
   "id": "d10878dc-b495-4f81-b598-bbe37dd9874b",
   "metadata": {
    "tags": []
   },
   "outputs": [
    {
     "name": "stderr",
     "output_type": "stream",
     "text": [
      " 10%|█         | 3580/35650 [05:12<46:36, 11.47it/s]  \n"
     ]
    },
    {
     "ename": "KeyboardInterrupt",
     "evalue": "",
     "output_type": "error",
     "traceback": [
      "\u001b[1;31m---------------------------------------------------------------------------\u001b[0m",
      "\u001b[1;31mKeyboardInterrupt\u001b[0m                         Traceback (most recent call last)",
      "Input \u001b[1;32mIn [24]\u001b[0m, in \u001b[0;36m<cell line: 1>\u001b[1;34m()\u001b[0m\n\u001b[1;32m----> 1\u001b[0m df[\u001b[38;5;124m'\u001b[39m\u001b[38;5;124mmain_ner\u001b[39m\u001b[38;5;124m'\u001b[39m] \u001b[38;5;241m=\u001b[39m  \u001b[43mdf\u001b[49m\u001b[43m[\u001b[49m\u001b[38;5;124;43m'\u001b[39;49m\u001b[38;5;124;43mMain title\u001b[39;49m\u001b[38;5;124;43m'\u001b[39;49m\u001b[43m]\u001b[49m\u001b[38;5;241;43m.\u001b[39;49m\u001b[43mprogress_apply\u001b[49m\u001b[43m(\u001b[49m\u001b[43mner\u001b[49m\u001b[43m)\u001b[49m\n",
      "File \u001b[1;32m~\\anaconda3\\lib\\site-packages\\tqdm\\std.py:814\u001b[0m, in \u001b[0;36mtqdm.pandas.<locals>.inner_generator.<locals>.inner\u001b[1;34m(df, func, *args, **kwargs)\u001b[0m\n\u001b[0;32m    811\u001b[0m \u001b[38;5;66;03m# Apply the provided function (in **kwargs)\u001b[39;00m\n\u001b[0;32m    812\u001b[0m \u001b[38;5;66;03m# on the df using our wrapper (which provides bar updating)\u001b[39;00m\n\u001b[0;32m    813\u001b[0m \u001b[38;5;28;01mtry\u001b[39;00m:\n\u001b[1;32m--> 814\u001b[0m     \u001b[38;5;28;01mreturn\u001b[39;00m \u001b[38;5;28mgetattr\u001b[39m(df, df_function)(wrapper, \u001b[38;5;241m*\u001b[39m\u001b[38;5;241m*\u001b[39mkwargs)\n\u001b[0;32m    815\u001b[0m \u001b[38;5;28;01mfinally\u001b[39;00m:\n\u001b[0;32m    816\u001b[0m     t\u001b[38;5;241m.\u001b[39mclose()\n",
      "File \u001b[1;32m~\\anaconda3\\lib\\site-packages\\pandas\\core\\series.py:4433\u001b[0m, in \u001b[0;36mSeries.apply\u001b[1;34m(self, func, convert_dtype, args, **kwargs)\u001b[0m\n\u001b[0;32m   4323\u001b[0m \u001b[38;5;28;01mdef\u001b[39;00m \u001b[38;5;21mapply\u001b[39m(\n\u001b[0;32m   4324\u001b[0m     \u001b[38;5;28mself\u001b[39m,\n\u001b[0;32m   4325\u001b[0m     func: AggFuncType,\n\u001b[1;32m   (...)\u001b[0m\n\u001b[0;32m   4328\u001b[0m     \u001b[38;5;241m*\u001b[39m\u001b[38;5;241m*\u001b[39mkwargs,\n\u001b[0;32m   4329\u001b[0m ) \u001b[38;5;241m-\u001b[39m\u001b[38;5;241m>\u001b[39m DataFrame \u001b[38;5;241m|\u001b[39m Series:\n\u001b[0;32m   4330\u001b[0m     \u001b[38;5;124;03m\"\"\"\u001b[39;00m\n\u001b[0;32m   4331\u001b[0m \u001b[38;5;124;03m    Invoke function on values of Series.\u001b[39;00m\n\u001b[0;32m   4332\u001b[0m \n\u001b[1;32m   (...)\u001b[0m\n\u001b[0;32m   4431\u001b[0m \u001b[38;5;124;03m    dtype: float64\u001b[39;00m\n\u001b[0;32m   4432\u001b[0m \u001b[38;5;124;03m    \"\"\"\u001b[39;00m\n\u001b[1;32m-> 4433\u001b[0m     \u001b[38;5;28;01mreturn\u001b[39;00m \u001b[43mSeriesApply\u001b[49m\u001b[43m(\u001b[49m\u001b[38;5;28;43mself\u001b[39;49m\u001b[43m,\u001b[49m\u001b[43m \u001b[49m\u001b[43mfunc\u001b[49m\u001b[43m,\u001b[49m\u001b[43m \u001b[49m\u001b[43mconvert_dtype\u001b[49m\u001b[43m,\u001b[49m\u001b[43m \u001b[49m\u001b[43margs\u001b[49m\u001b[43m,\u001b[49m\u001b[43m \u001b[49m\u001b[43mkwargs\u001b[49m\u001b[43m)\u001b[49m\u001b[38;5;241;43m.\u001b[39;49m\u001b[43mapply\u001b[49m\u001b[43m(\u001b[49m\u001b[43m)\u001b[49m\n",
      "File \u001b[1;32m~\\anaconda3\\lib\\site-packages\\pandas\\core\\apply.py:1082\u001b[0m, in \u001b[0;36mSeriesApply.apply\u001b[1;34m(self)\u001b[0m\n\u001b[0;32m   1078\u001b[0m \u001b[38;5;28;01mif\u001b[39;00m \u001b[38;5;28misinstance\u001b[39m(\u001b[38;5;28mself\u001b[39m\u001b[38;5;241m.\u001b[39mf, \u001b[38;5;28mstr\u001b[39m):\n\u001b[0;32m   1079\u001b[0m     \u001b[38;5;66;03m# if we are a string, try to dispatch\u001b[39;00m\n\u001b[0;32m   1080\u001b[0m     \u001b[38;5;28;01mreturn\u001b[39;00m \u001b[38;5;28mself\u001b[39m\u001b[38;5;241m.\u001b[39mapply_str()\n\u001b[1;32m-> 1082\u001b[0m \u001b[38;5;28;01mreturn\u001b[39;00m \u001b[38;5;28;43mself\u001b[39;49m\u001b[38;5;241;43m.\u001b[39;49m\u001b[43mapply_standard\u001b[49m\u001b[43m(\u001b[49m\u001b[43m)\u001b[49m\n",
      "File \u001b[1;32m~\\anaconda3\\lib\\site-packages\\pandas\\core\\apply.py:1137\u001b[0m, in \u001b[0;36mSeriesApply.apply_standard\u001b[1;34m(self)\u001b[0m\n\u001b[0;32m   1131\u001b[0m         values \u001b[38;5;241m=\u001b[39m obj\u001b[38;5;241m.\u001b[39mastype(\u001b[38;5;28mobject\u001b[39m)\u001b[38;5;241m.\u001b[39m_values\n\u001b[0;32m   1132\u001b[0m         \u001b[38;5;66;03m# error: Argument 2 to \"map_infer\" has incompatible type\u001b[39;00m\n\u001b[0;32m   1133\u001b[0m         \u001b[38;5;66;03m# \"Union[Callable[..., Any], str, List[Union[Callable[..., Any], str]],\u001b[39;00m\n\u001b[0;32m   1134\u001b[0m         \u001b[38;5;66;03m# Dict[Hashable, Union[Union[Callable[..., Any], str],\u001b[39;00m\n\u001b[0;32m   1135\u001b[0m         \u001b[38;5;66;03m# List[Union[Callable[..., Any], str]]]]]\"; expected\u001b[39;00m\n\u001b[0;32m   1136\u001b[0m         \u001b[38;5;66;03m# \"Callable[[Any], Any]\"\u001b[39;00m\n\u001b[1;32m-> 1137\u001b[0m         mapped \u001b[38;5;241m=\u001b[39m \u001b[43mlib\u001b[49m\u001b[38;5;241;43m.\u001b[39;49m\u001b[43mmap_infer\u001b[49m\u001b[43m(\u001b[49m\n\u001b[0;32m   1138\u001b[0m \u001b[43m            \u001b[49m\u001b[43mvalues\u001b[49m\u001b[43m,\u001b[49m\n\u001b[0;32m   1139\u001b[0m \u001b[43m            \u001b[49m\u001b[43mf\u001b[49m\u001b[43m,\u001b[49m\u001b[43m  \u001b[49m\u001b[38;5;66;43;03m# type: ignore[arg-type]\u001b[39;49;00m\n\u001b[0;32m   1140\u001b[0m \u001b[43m            \u001b[49m\u001b[43mconvert\u001b[49m\u001b[38;5;241;43m=\u001b[39;49m\u001b[38;5;28;43mself\u001b[39;49m\u001b[38;5;241;43m.\u001b[39;49m\u001b[43mconvert_dtype\u001b[49m\u001b[43m,\u001b[49m\n\u001b[0;32m   1141\u001b[0m \u001b[43m        \u001b[49m\u001b[43m)\u001b[49m\n\u001b[0;32m   1143\u001b[0m \u001b[38;5;28;01mif\u001b[39;00m \u001b[38;5;28mlen\u001b[39m(mapped) \u001b[38;5;129;01mand\u001b[39;00m \u001b[38;5;28misinstance\u001b[39m(mapped[\u001b[38;5;241m0\u001b[39m], ABCSeries):\n\u001b[0;32m   1144\u001b[0m     \u001b[38;5;66;03m# GH#43986 Need to do list(mapped) in order to get treated as nested\u001b[39;00m\n\u001b[0;32m   1145\u001b[0m     \u001b[38;5;66;03m#  See also GH#25959 regarding EA support\u001b[39;00m\n\u001b[0;32m   1146\u001b[0m     \u001b[38;5;28;01mreturn\u001b[39;00m obj\u001b[38;5;241m.\u001b[39m_constructor_expanddim(\u001b[38;5;28mlist\u001b[39m(mapped), index\u001b[38;5;241m=\u001b[39mobj\u001b[38;5;241m.\u001b[39mindex)\n",
      "File \u001b[1;32m~\\anaconda3\\lib\\site-packages\\pandas\\_libs\\lib.pyx:2870\u001b[0m, in \u001b[0;36mpandas._libs.lib.map_infer\u001b[1;34m()\u001b[0m\n",
      "File \u001b[1;32m~\\anaconda3\\lib\\site-packages\\tqdm\\std.py:809\u001b[0m, in \u001b[0;36mtqdm.pandas.<locals>.inner_generator.<locals>.inner.<locals>.wrapper\u001b[1;34m(*args, **kwargs)\u001b[0m\n\u001b[0;32m    803\u001b[0m \u001b[38;5;28;01mdef\u001b[39;00m \u001b[38;5;21mwrapper\u001b[39m(\u001b[38;5;241m*\u001b[39margs, \u001b[38;5;241m*\u001b[39m\u001b[38;5;241m*\u001b[39mkwargs):\n\u001b[0;32m    804\u001b[0m     \u001b[38;5;66;03m# update tbar correctly\u001b[39;00m\n\u001b[0;32m    805\u001b[0m     \u001b[38;5;66;03m# it seems `pandas apply` calls `func` twice\u001b[39;00m\n\u001b[0;32m    806\u001b[0m     \u001b[38;5;66;03m# on the first column/row to decide whether it can\u001b[39;00m\n\u001b[0;32m    807\u001b[0m     \u001b[38;5;66;03m# take a fast or slow code path; so stop when t.total==t.n\u001b[39;00m\n\u001b[0;32m    808\u001b[0m     t\u001b[38;5;241m.\u001b[39mupdate(n\u001b[38;5;241m=\u001b[39m\u001b[38;5;241m1\u001b[39m \u001b[38;5;28;01mif\u001b[39;00m \u001b[38;5;129;01mnot\u001b[39;00m t\u001b[38;5;241m.\u001b[39mtotal \u001b[38;5;129;01mor\u001b[39;00m t\u001b[38;5;241m.\u001b[39mn \u001b[38;5;241m<\u001b[39m t\u001b[38;5;241m.\u001b[39mtotal \u001b[38;5;28;01melse\u001b[39;00m \u001b[38;5;241m0\u001b[39m)\n\u001b[1;32m--> 809\u001b[0m     \u001b[38;5;28;01mreturn\u001b[39;00m func(\u001b[38;5;241m*\u001b[39margs, \u001b[38;5;241m*\u001b[39m\u001b[38;5;241m*\u001b[39mkwargs)\n",
      "File \u001b[1;32m~\\anaconda3\\lib\\site-packages\\transformers\\pipelines\\token_classification.py:214\u001b[0m, in \u001b[0;36mTokenClassificationPipeline.__call__\u001b[1;34m(self, inputs, **kwargs)\u001b[0m\n\u001b[0;32m    211\u001b[0m \u001b[38;5;28;01mif\u001b[39;00m offset_mapping:\n\u001b[0;32m    212\u001b[0m     kwargs[\u001b[38;5;124m\"\u001b[39m\u001b[38;5;124moffset_mapping\u001b[39m\u001b[38;5;124m\"\u001b[39m] \u001b[38;5;241m=\u001b[39m offset_mapping\n\u001b[1;32m--> 214\u001b[0m \u001b[38;5;28;01mreturn\u001b[39;00m \u001b[38;5;28msuper\u001b[39m()\u001b[38;5;241m.\u001b[39m\u001b[38;5;21m__call__\u001b[39m(inputs, \u001b[38;5;241m*\u001b[39m\u001b[38;5;241m*\u001b[39mkwargs)\n",
      "File \u001b[1;32m~\\anaconda3\\lib\\site-packages\\transformers\\pipelines\\base.py:1109\u001b[0m, in \u001b[0;36mPipeline.__call__\u001b[1;34m(self, inputs, num_workers, batch_size, *args, **kwargs)\u001b[0m\n\u001b[0;32m   1101\u001b[0m     \u001b[38;5;28;01mreturn\u001b[39;00m \u001b[38;5;28mnext\u001b[39m(\n\u001b[0;32m   1102\u001b[0m         \u001b[38;5;28miter\u001b[39m(\n\u001b[0;32m   1103\u001b[0m             \u001b[38;5;28mself\u001b[39m\u001b[38;5;241m.\u001b[39mget_iterator(\n\u001b[1;32m   (...)\u001b[0m\n\u001b[0;32m   1106\u001b[0m         )\n\u001b[0;32m   1107\u001b[0m     )\n\u001b[0;32m   1108\u001b[0m \u001b[38;5;28;01melse\u001b[39;00m:\n\u001b[1;32m-> 1109\u001b[0m     \u001b[38;5;28;01mreturn\u001b[39;00m \u001b[38;5;28;43mself\u001b[39;49m\u001b[38;5;241;43m.\u001b[39;49m\u001b[43mrun_single\u001b[49m\u001b[43m(\u001b[49m\u001b[43minputs\u001b[49m\u001b[43m,\u001b[49m\u001b[43m \u001b[49m\u001b[43mpreprocess_params\u001b[49m\u001b[43m,\u001b[49m\u001b[43m \u001b[49m\u001b[43mforward_params\u001b[49m\u001b[43m,\u001b[49m\u001b[43m \u001b[49m\u001b[43mpostprocess_params\u001b[49m\u001b[43m)\u001b[49m\n",
      "File \u001b[1;32m~\\anaconda3\\lib\\site-packages\\transformers\\pipelines\\base.py:1116\u001b[0m, in \u001b[0;36mPipeline.run_single\u001b[1;34m(self, inputs, preprocess_params, forward_params, postprocess_params)\u001b[0m\n\u001b[0;32m   1114\u001b[0m \u001b[38;5;28;01mdef\u001b[39;00m \u001b[38;5;21mrun_single\u001b[39m(\u001b[38;5;28mself\u001b[39m, inputs, preprocess_params, forward_params, postprocess_params):\n\u001b[0;32m   1115\u001b[0m     model_inputs \u001b[38;5;241m=\u001b[39m \u001b[38;5;28mself\u001b[39m\u001b[38;5;241m.\u001b[39mpreprocess(inputs, \u001b[38;5;241m*\u001b[39m\u001b[38;5;241m*\u001b[39mpreprocess_params)\n\u001b[1;32m-> 1116\u001b[0m     model_outputs \u001b[38;5;241m=\u001b[39m \u001b[38;5;28mself\u001b[39m\u001b[38;5;241m.\u001b[39mforward(model_inputs, \u001b[38;5;241m*\u001b[39m\u001b[38;5;241m*\u001b[39mforward_params)\n\u001b[0;32m   1117\u001b[0m     outputs \u001b[38;5;241m=\u001b[39m \u001b[38;5;28mself\u001b[39m\u001b[38;5;241m.\u001b[39mpostprocess(model_outputs, \u001b[38;5;241m*\u001b[39m\u001b[38;5;241m*\u001b[39mpostprocess_params)\n\u001b[0;32m   1118\u001b[0m     \u001b[38;5;28;01mreturn\u001b[39;00m outputs\n",
      "File \u001b[1;32m~\\anaconda3\\lib\\site-packages\\transformers\\pipelines\\base.py:1015\u001b[0m, in \u001b[0;36mPipeline.forward\u001b[1;34m(self, model_inputs, **forward_params)\u001b[0m\n\u001b[0;32m   1013\u001b[0m     \u001b[38;5;28;01mwith\u001b[39;00m inference_context():\n\u001b[0;32m   1014\u001b[0m         model_inputs \u001b[38;5;241m=\u001b[39m \u001b[38;5;28mself\u001b[39m\u001b[38;5;241m.\u001b[39m_ensure_tensor_on_device(model_inputs, device\u001b[38;5;241m=\u001b[39m\u001b[38;5;28mself\u001b[39m\u001b[38;5;241m.\u001b[39mdevice)\n\u001b[1;32m-> 1015\u001b[0m         model_outputs \u001b[38;5;241m=\u001b[39m \u001b[38;5;28mself\u001b[39m\u001b[38;5;241m.\u001b[39m_forward(model_inputs, \u001b[38;5;241m*\u001b[39m\u001b[38;5;241m*\u001b[39mforward_params)\n\u001b[0;32m   1016\u001b[0m         model_outputs \u001b[38;5;241m=\u001b[39m \u001b[38;5;28mself\u001b[39m\u001b[38;5;241m.\u001b[39m_ensure_tensor_on_device(model_outputs, device\u001b[38;5;241m=\u001b[39mtorch\u001b[38;5;241m.\u001b[39mdevice(\u001b[38;5;124m\"\u001b[39m\u001b[38;5;124mcpu\u001b[39m\u001b[38;5;124m\"\u001b[39m))\n\u001b[0;32m   1017\u001b[0m \u001b[38;5;28;01melse\u001b[39;00m:\n",
      "File \u001b[1;32m~\\anaconda3\\lib\\site-packages\\transformers\\pipelines\\token_classification.py:240\u001b[0m, in \u001b[0;36mTokenClassificationPipeline._forward\u001b[1;34m(self, model_inputs)\u001b[0m\n\u001b[0;32m    238\u001b[0m     logits \u001b[38;5;241m=\u001b[39m \u001b[38;5;28mself\u001b[39m\u001b[38;5;241m.\u001b[39mmodel(model_inputs\u001b[38;5;241m.\u001b[39mdata)[\u001b[38;5;241m0\u001b[39m]\n\u001b[0;32m    239\u001b[0m \u001b[38;5;28;01melse\u001b[39;00m:\n\u001b[1;32m--> 240\u001b[0m     output \u001b[38;5;241m=\u001b[39m \u001b[38;5;28mself\u001b[39m\u001b[38;5;241m.\u001b[39mmodel(\u001b[38;5;241m*\u001b[39m\u001b[38;5;241m*\u001b[39mmodel_inputs)\n\u001b[0;32m    241\u001b[0m     logits \u001b[38;5;241m=\u001b[39m output[\u001b[38;5;124m\"\u001b[39m\u001b[38;5;124mlogits\u001b[39m\u001b[38;5;124m\"\u001b[39m] \u001b[38;5;28;01mif\u001b[39;00m \u001b[38;5;28misinstance\u001b[39m(output, \u001b[38;5;28mdict\u001b[39m) \u001b[38;5;28;01melse\u001b[39;00m output[\u001b[38;5;241m0\u001b[39m]\n\u001b[0;32m    243\u001b[0m \u001b[38;5;28;01mreturn\u001b[39;00m {\n\u001b[0;32m    244\u001b[0m     \u001b[38;5;124m\"\u001b[39m\u001b[38;5;124mlogits\u001b[39m\u001b[38;5;124m\"\u001b[39m: logits,\n\u001b[0;32m    245\u001b[0m     \u001b[38;5;124m\"\u001b[39m\u001b[38;5;124mspecial_tokens_mask\u001b[39m\u001b[38;5;124m\"\u001b[39m: special_tokens_mask,\n\u001b[1;32m   (...)\u001b[0m\n\u001b[0;32m    248\u001b[0m     \u001b[38;5;241m*\u001b[39m\u001b[38;5;241m*\u001b[39mmodel_inputs,\n\u001b[0;32m    249\u001b[0m }\n",
      "File \u001b[1;32m~\\anaconda3\\lib\\site-packages\\torch\\nn\\modules\\module.py:1130\u001b[0m, in \u001b[0;36mModule._call_impl\u001b[1;34m(self, *input, **kwargs)\u001b[0m\n\u001b[0;32m   1126\u001b[0m \u001b[38;5;66;03m# If we don't have any hooks, we want to skip the rest of the logic in\u001b[39;00m\n\u001b[0;32m   1127\u001b[0m \u001b[38;5;66;03m# this function, and just call forward.\u001b[39;00m\n\u001b[0;32m   1128\u001b[0m \u001b[38;5;28;01mif\u001b[39;00m \u001b[38;5;129;01mnot\u001b[39;00m (\u001b[38;5;28mself\u001b[39m\u001b[38;5;241m.\u001b[39m_backward_hooks \u001b[38;5;129;01mor\u001b[39;00m \u001b[38;5;28mself\u001b[39m\u001b[38;5;241m.\u001b[39m_forward_hooks \u001b[38;5;129;01mor\u001b[39;00m \u001b[38;5;28mself\u001b[39m\u001b[38;5;241m.\u001b[39m_forward_pre_hooks \u001b[38;5;129;01mor\u001b[39;00m _global_backward_hooks\n\u001b[0;32m   1129\u001b[0m         \u001b[38;5;129;01mor\u001b[39;00m _global_forward_hooks \u001b[38;5;129;01mor\u001b[39;00m _global_forward_pre_hooks):\n\u001b[1;32m-> 1130\u001b[0m     \u001b[38;5;28;01mreturn\u001b[39;00m forward_call(\u001b[38;5;241m*\u001b[39m\u001b[38;5;28minput\u001b[39m, \u001b[38;5;241m*\u001b[39m\u001b[38;5;241m*\u001b[39mkwargs)\n\u001b[0;32m   1131\u001b[0m \u001b[38;5;66;03m# Do not call functions when jit is used\u001b[39;00m\n\u001b[0;32m   1132\u001b[0m full_backward_hooks, non_full_backward_hooks \u001b[38;5;241m=\u001b[39m [], []\n",
      "File \u001b[1;32m~\\anaconda3\\lib\\site-packages\\transformers\\models\\bert\\modeling_bert.py:1758\u001b[0m, in \u001b[0;36mBertForTokenClassification.forward\u001b[1;34m(self, input_ids, attention_mask, token_type_ids, position_ids, head_mask, inputs_embeds, labels, output_attentions, output_hidden_states, return_dict)\u001b[0m\n\u001b[0;32m   1752\u001b[0m \u001b[38;5;124mr\u001b[39m\u001b[38;5;124;03m\"\"\"\u001b[39;00m\n\u001b[0;32m   1753\u001b[0m \u001b[38;5;124;03mlabels (`torch.LongTensor` of shape `(batch_size, sequence_length)`, *optional*):\u001b[39;00m\n\u001b[0;32m   1754\u001b[0m \u001b[38;5;124;03m    Labels for computing the token classification loss. Indices should be in `[0, ..., config.num_labels - 1]`.\u001b[39;00m\n\u001b[0;32m   1755\u001b[0m \u001b[38;5;124;03m\"\"\"\u001b[39;00m\n\u001b[0;32m   1756\u001b[0m return_dict \u001b[38;5;241m=\u001b[39m return_dict \u001b[38;5;28;01mif\u001b[39;00m return_dict \u001b[38;5;129;01mis\u001b[39;00m \u001b[38;5;129;01mnot\u001b[39;00m \u001b[38;5;28;01mNone\u001b[39;00m \u001b[38;5;28;01melse\u001b[39;00m \u001b[38;5;28mself\u001b[39m\u001b[38;5;241m.\u001b[39mconfig\u001b[38;5;241m.\u001b[39muse_return_dict\n\u001b[1;32m-> 1758\u001b[0m outputs \u001b[38;5;241m=\u001b[39m \u001b[38;5;28;43mself\u001b[39;49m\u001b[38;5;241;43m.\u001b[39;49m\u001b[43mbert\u001b[49m\u001b[43m(\u001b[49m\n\u001b[0;32m   1759\u001b[0m \u001b[43m    \u001b[49m\u001b[43minput_ids\u001b[49m\u001b[43m,\u001b[49m\n\u001b[0;32m   1760\u001b[0m \u001b[43m    \u001b[49m\u001b[43mattention_mask\u001b[49m\u001b[38;5;241;43m=\u001b[39;49m\u001b[43mattention_mask\u001b[49m\u001b[43m,\u001b[49m\n\u001b[0;32m   1761\u001b[0m \u001b[43m    \u001b[49m\u001b[43mtoken_type_ids\u001b[49m\u001b[38;5;241;43m=\u001b[39;49m\u001b[43mtoken_type_ids\u001b[49m\u001b[43m,\u001b[49m\n\u001b[0;32m   1762\u001b[0m \u001b[43m    \u001b[49m\u001b[43mposition_ids\u001b[49m\u001b[38;5;241;43m=\u001b[39;49m\u001b[43mposition_ids\u001b[49m\u001b[43m,\u001b[49m\n\u001b[0;32m   1763\u001b[0m \u001b[43m    \u001b[49m\u001b[43mhead_mask\u001b[49m\u001b[38;5;241;43m=\u001b[39;49m\u001b[43mhead_mask\u001b[49m\u001b[43m,\u001b[49m\n\u001b[0;32m   1764\u001b[0m \u001b[43m    \u001b[49m\u001b[43minputs_embeds\u001b[49m\u001b[38;5;241;43m=\u001b[39;49m\u001b[43minputs_embeds\u001b[49m\u001b[43m,\u001b[49m\n\u001b[0;32m   1765\u001b[0m \u001b[43m    \u001b[49m\u001b[43moutput_attentions\u001b[49m\u001b[38;5;241;43m=\u001b[39;49m\u001b[43moutput_attentions\u001b[49m\u001b[43m,\u001b[49m\n\u001b[0;32m   1766\u001b[0m \u001b[43m    \u001b[49m\u001b[43moutput_hidden_states\u001b[49m\u001b[38;5;241;43m=\u001b[39;49m\u001b[43moutput_hidden_states\u001b[49m\u001b[43m,\u001b[49m\n\u001b[0;32m   1767\u001b[0m \u001b[43m    \u001b[49m\u001b[43mreturn_dict\u001b[49m\u001b[38;5;241;43m=\u001b[39;49m\u001b[43mreturn_dict\u001b[49m\u001b[43m,\u001b[49m\n\u001b[0;32m   1768\u001b[0m \u001b[43m\u001b[49m\u001b[43m)\u001b[49m\n\u001b[0;32m   1770\u001b[0m sequence_output \u001b[38;5;241m=\u001b[39m outputs[\u001b[38;5;241m0\u001b[39m]\n\u001b[0;32m   1772\u001b[0m sequence_output \u001b[38;5;241m=\u001b[39m \u001b[38;5;28mself\u001b[39m\u001b[38;5;241m.\u001b[39mdropout(sequence_output)\n",
      "File \u001b[1;32m~\\anaconda3\\lib\\site-packages\\torch\\nn\\modules\\module.py:1130\u001b[0m, in \u001b[0;36mModule._call_impl\u001b[1;34m(self, *input, **kwargs)\u001b[0m\n\u001b[0;32m   1126\u001b[0m \u001b[38;5;66;03m# If we don't have any hooks, we want to skip the rest of the logic in\u001b[39;00m\n\u001b[0;32m   1127\u001b[0m \u001b[38;5;66;03m# this function, and just call forward.\u001b[39;00m\n\u001b[0;32m   1128\u001b[0m \u001b[38;5;28;01mif\u001b[39;00m \u001b[38;5;129;01mnot\u001b[39;00m (\u001b[38;5;28mself\u001b[39m\u001b[38;5;241m.\u001b[39m_backward_hooks \u001b[38;5;129;01mor\u001b[39;00m \u001b[38;5;28mself\u001b[39m\u001b[38;5;241m.\u001b[39m_forward_hooks \u001b[38;5;129;01mor\u001b[39;00m \u001b[38;5;28mself\u001b[39m\u001b[38;5;241m.\u001b[39m_forward_pre_hooks \u001b[38;5;129;01mor\u001b[39;00m _global_backward_hooks\n\u001b[0;32m   1129\u001b[0m         \u001b[38;5;129;01mor\u001b[39;00m _global_forward_hooks \u001b[38;5;129;01mor\u001b[39;00m _global_forward_pre_hooks):\n\u001b[1;32m-> 1130\u001b[0m     \u001b[38;5;28;01mreturn\u001b[39;00m forward_call(\u001b[38;5;241m*\u001b[39m\u001b[38;5;28minput\u001b[39m, \u001b[38;5;241m*\u001b[39m\u001b[38;5;241m*\u001b[39mkwargs)\n\u001b[0;32m   1131\u001b[0m \u001b[38;5;66;03m# Do not call functions when jit is used\u001b[39;00m\n\u001b[0;32m   1132\u001b[0m full_backward_hooks, non_full_backward_hooks \u001b[38;5;241m=\u001b[39m [], []\n",
      "File \u001b[1;32m~\\anaconda3\\lib\\site-packages\\transformers\\models\\bert\\modeling_bert.py:1020\u001b[0m, in \u001b[0;36mBertModel.forward\u001b[1;34m(self, input_ids, attention_mask, token_type_ids, position_ids, head_mask, inputs_embeds, encoder_hidden_states, encoder_attention_mask, past_key_values, use_cache, output_attentions, output_hidden_states, return_dict)\u001b[0m\n\u001b[0;32m   1011\u001b[0m head_mask \u001b[38;5;241m=\u001b[39m \u001b[38;5;28mself\u001b[39m\u001b[38;5;241m.\u001b[39mget_head_mask(head_mask, \u001b[38;5;28mself\u001b[39m\u001b[38;5;241m.\u001b[39mconfig\u001b[38;5;241m.\u001b[39mnum_hidden_layers)\n\u001b[0;32m   1013\u001b[0m embedding_output \u001b[38;5;241m=\u001b[39m \u001b[38;5;28mself\u001b[39m\u001b[38;5;241m.\u001b[39membeddings(\n\u001b[0;32m   1014\u001b[0m     input_ids\u001b[38;5;241m=\u001b[39minput_ids,\n\u001b[0;32m   1015\u001b[0m     position_ids\u001b[38;5;241m=\u001b[39mposition_ids,\n\u001b[1;32m   (...)\u001b[0m\n\u001b[0;32m   1018\u001b[0m     past_key_values_length\u001b[38;5;241m=\u001b[39mpast_key_values_length,\n\u001b[0;32m   1019\u001b[0m )\n\u001b[1;32m-> 1020\u001b[0m encoder_outputs \u001b[38;5;241m=\u001b[39m \u001b[38;5;28;43mself\u001b[39;49m\u001b[38;5;241;43m.\u001b[39;49m\u001b[43mencoder\u001b[49m\u001b[43m(\u001b[49m\n\u001b[0;32m   1021\u001b[0m \u001b[43m    \u001b[49m\u001b[43membedding_output\u001b[49m\u001b[43m,\u001b[49m\n\u001b[0;32m   1022\u001b[0m \u001b[43m    \u001b[49m\u001b[43mattention_mask\u001b[49m\u001b[38;5;241;43m=\u001b[39;49m\u001b[43mextended_attention_mask\u001b[49m\u001b[43m,\u001b[49m\n\u001b[0;32m   1023\u001b[0m \u001b[43m    \u001b[49m\u001b[43mhead_mask\u001b[49m\u001b[38;5;241;43m=\u001b[39;49m\u001b[43mhead_mask\u001b[49m\u001b[43m,\u001b[49m\n\u001b[0;32m   1024\u001b[0m \u001b[43m    \u001b[49m\u001b[43mencoder_hidden_states\u001b[49m\u001b[38;5;241;43m=\u001b[39;49m\u001b[43mencoder_hidden_states\u001b[49m\u001b[43m,\u001b[49m\n\u001b[0;32m   1025\u001b[0m \u001b[43m    \u001b[49m\u001b[43mencoder_attention_mask\u001b[49m\u001b[38;5;241;43m=\u001b[39;49m\u001b[43mencoder_extended_attention_mask\u001b[49m\u001b[43m,\u001b[49m\n\u001b[0;32m   1026\u001b[0m \u001b[43m    \u001b[49m\u001b[43mpast_key_values\u001b[49m\u001b[38;5;241;43m=\u001b[39;49m\u001b[43mpast_key_values\u001b[49m\u001b[43m,\u001b[49m\n\u001b[0;32m   1027\u001b[0m \u001b[43m    \u001b[49m\u001b[43muse_cache\u001b[49m\u001b[38;5;241;43m=\u001b[39;49m\u001b[43muse_cache\u001b[49m\u001b[43m,\u001b[49m\n\u001b[0;32m   1028\u001b[0m \u001b[43m    \u001b[49m\u001b[43moutput_attentions\u001b[49m\u001b[38;5;241;43m=\u001b[39;49m\u001b[43moutput_attentions\u001b[49m\u001b[43m,\u001b[49m\n\u001b[0;32m   1029\u001b[0m \u001b[43m    \u001b[49m\u001b[43moutput_hidden_states\u001b[49m\u001b[38;5;241;43m=\u001b[39;49m\u001b[43moutput_hidden_states\u001b[49m\u001b[43m,\u001b[49m\n\u001b[0;32m   1030\u001b[0m \u001b[43m    \u001b[49m\u001b[43mreturn_dict\u001b[49m\u001b[38;5;241;43m=\u001b[39;49m\u001b[43mreturn_dict\u001b[49m\u001b[43m,\u001b[49m\n\u001b[0;32m   1031\u001b[0m \u001b[43m\u001b[49m\u001b[43m)\u001b[49m\n\u001b[0;32m   1032\u001b[0m sequence_output \u001b[38;5;241m=\u001b[39m encoder_outputs[\u001b[38;5;241m0\u001b[39m]\n\u001b[0;32m   1033\u001b[0m pooled_output \u001b[38;5;241m=\u001b[39m \u001b[38;5;28mself\u001b[39m\u001b[38;5;241m.\u001b[39mpooler(sequence_output) \u001b[38;5;28;01mif\u001b[39;00m \u001b[38;5;28mself\u001b[39m\u001b[38;5;241m.\u001b[39mpooler \u001b[38;5;129;01mis\u001b[39;00m \u001b[38;5;129;01mnot\u001b[39;00m \u001b[38;5;28;01mNone\u001b[39;00m \u001b[38;5;28;01melse\u001b[39;00m \u001b[38;5;28;01mNone\u001b[39;00m\n",
      "File \u001b[1;32m~\\anaconda3\\lib\\site-packages\\torch\\nn\\modules\\module.py:1130\u001b[0m, in \u001b[0;36mModule._call_impl\u001b[1;34m(self, *input, **kwargs)\u001b[0m\n\u001b[0;32m   1126\u001b[0m \u001b[38;5;66;03m# If we don't have any hooks, we want to skip the rest of the logic in\u001b[39;00m\n\u001b[0;32m   1127\u001b[0m \u001b[38;5;66;03m# this function, and just call forward.\u001b[39;00m\n\u001b[0;32m   1128\u001b[0m \u001b[38;5;28;01mif\u001b[39;00m \u001b[38;5;129;01mnot\u001b[39;00m (\u001b[38;5;28mself\u001b[39m\u001b[38;5;241m.\u001b[39m_backward_hooks \u001b[38;5;129;01mor\u001b[39;00m \u001b[38;5;28mself\u001b[39m\u001b[38;5;241m.\u001b[39m_forward_hooks \u001b[38;5;129;01mor\u001b[39;00m \u001b[38;5;28mself\u001b[39m\u001b[38;5;241m.\u001b[39m_forward_pre_hooks \u001b[38;5;129;01mor\u001b[39;00m _global_backward_hooks\n\u001b[0;32m   1129\u001b[0m         \u001b[38;5;129;01mor\u001b[39;00m _global_forward_hooks \u001b[38;5;129;01mor\u001b[39;00m _global_forward_pre_hooks):\n\u001b[1;32m-> 1130\u001b[0m     \u001b[38;5;28;01mreturn\u001b[39;00m forward_call(\u001b[38;5;241m*\u001b[39m\u001b[38;5;28minput\u001b[39m, \u001b[38;5;241m*\u001b[39m\u001b[38;5;241m*\u001b[39mkwargs)\n\u001b[0;32m   1131\u001b[0m \u001b[38;5;66;03m# Do not call functions when jit is used\u001b[39;00m\n\u001b[0;32m   1132\u001b[0m full_backward_hooks, non_full_backward_hooks \u001b[38;5;241m=\u001b[39m [], []\n",
      "File \u001b[1;32m~\\anaconda3\\lib\\site-packages\\transformers\\models\\bert\\modeling_bert.py:610\u001b[0m, in \u001b[0;36mBertEncoder.forward\u001b[1;34m(self, hidden_states, attention_mask, head_mask, encoder_hidden_states, encoder_attention_mask, past_key_values, use_cache, output_attentions, output_hidden_states, return_dict)\u001b[0m\n\u001b[0;32m    601\u001b[0m     layer_outputs \u001b[38;5;241m=\u001b[39m torch\u001b[38;5;241m.\u001b[39mutils\u001b[38;5;241m.\u001b[39mcheckpoint\u001b[38;5;241m.\u001b[39mcheckpoint(\n\u001b[0;32m    602\u001b[0m         create_custom_forward(layer_module),\n\u001b[0;32m    603\u001b[0m         hidden_states,\n\u001b[1;32m   (...)\u001b[0m\n\u001b[0;32m    607\u001b[0m         encoder_attention_mask,\n\u001b[0;32m    608\u001b[0m     )\n\u001b[0;32m    609\u001b[0m \u001b[38;5;28;01melse\u001b[39;00m:\n\u001b[1;32m--> 610\u001b[0m     layer_outputs \u001b[38;5;241m=\u001b[39m \u001b[43mlayer_module\u001b[49m\u001b[43m(\u001b[49m\n\u001b[0;32m    611\u001b[0m \u001b[43m        \u001b[49m\u001b[43mhidden_states\u001b[49m\u001b[43m,\u001b[49m\n\u001b[0;32m    612\u001b[0m \u001b[43m        \u001b[49m\u001b[43mattention_mask\u001b[49m\u001b[43m,\u001b[49m\n\u001b[0;32m    613\u001b[0m \u001b[43m        \u001b[49m\u001b[43mlayer_head_mask\u001b[49m\u001b[43m,\u001b[49m\n\u001b[0;32m    614\u001b[0m \u001b[43m        \u001b[49m\u001b[43mencoder_hidden_states\u001b[49m\u001b[43m,\u001b[49m\n\u001b[0;32m    615\u001b[0m \u001b[43m        \u001b[49m\u001b[43mencoder_attention_mask\u001b[49m\u001b[43m,\u001b[49m\n\u001b[0;32m    616\u001b[0m \u001b[43m        \u001b[49m\u001b[43mpast_key_value\u001b[49m\u001b[43m,\u001b[49m\n\u001b[0;32m    617\u001b[0m \u001b[43m        \u001b[49m\u001b[43moutput_attentions\u001b[49m\u001b[43m,\u001b[49m\n\u001b[0;32m    618\u001b[0m \u001b[43m    \u001b[49m\u001b[43m)\u001b[49m\n\u001b[0;32m    620\u001b[0m hidden_states \u001b[38;5;241m=\u001b[39m layer_outputs[\u001b[38;5;241m0\u001b[39m]\n\u001b[0;32m    621\u001b[0m \u001b[38;5;28;01mif\u001b[39;00m use_cache:\n",
      "File \u001b[1;32m~\\anaconda3\\lib\\site-packages\\torch\\nn\\modules\\module.py:1130\u001b[0m, in \u001b[0;36mModule._call_impl\u001b[1;34m(self, *input, **kwargs)\u001b[0m\n\u001b[0;32m   1126\u001b[0m \u001b[38;5;66;03m# If we don't have any hooks, we want to skip the rest of the logic in\u001b[39;00m\n\u001b[0;32m   1127\u001b[0m \u001b[38;5;66;03m# this function, and just call forward.\u001b[39;00m\n\u001b[0;32m   1128\u001b[0m \u001b[38;5;28;01mif\u001b[39;00m \u001b[38;5;129;01mnot\u001b[39;00m (\u001b[38;5;28mself\u001b[39m\u001b[38;5;241m.\u001b[39m_backward_hooks \u001b[38;5;129;01mor\u001b[39;00m \u001b[38;5;28mself\u001b[39m\u001b[38;5;241m.\u001b[39m_forward_hooks \u001b[38;5;129;01mor\u001b[39;00m \u001b[38;5;28mself\u001b[39m\u001b[38;5;241m.\u001b[39m_forward_pre_hooks \u001b[38;5;129;01mor\u001b[39;00m _global_backward_hooks\n\u001b[0;32m   1129\u001b[0m         \u001b[38;5;129;01mor\u001b[39;00m _global_forward_hooks \u001b[38;5;129;01mor\u001b[39;00m _global_forward_pre_hooks):\n\u001b[1;32m-> 1130\u001b[0m     \u001b[38;5;28;01mreturn\u001b[39;00m forward_call(\u001b[38;5;241m*\u001b[39m\u001b[38;5;28minput\u001b[39m, \u001b[38;5;241m*\u001b[39m\u001b[38;5;241m*\u001b[39mkwargs)\n\u001b[0;32m   1131\u001b[0m \u001b[38;5;66;03m# Do not call functions when jit is used\u001b[39;00m\n\u001b[0;32m   1132\u001b[0m full_backward_hooks, non_full_backward_hooks \u001b[38;5;241m=\u001b[39m [], []\n",
      "File \u001b[1;32m~\\anaconda3\\lib\\site-packages\\transformers\\models\\bert\\modeling_bert.py:495\u001b[0m, in \u001b[0;36mBertLayer.forward\u001b[1;34m(self, hidden_states, attention_mask, head_mask, encoder_hidden_states, encoder_attention_mask, past_key_value, output_attentions)\u001b[0m\n\u001b[0;32m    483\u001b[0m \u001b[38;5;28;01mdef\u001b[39;00m \u001b[38;5;21mforward\u001b[39m(\n\u001b[0;32m    484\u001b[0m     \u001b[38;5;28mself\u001b[39m,\n\u001b[0;32m    485\u001b[0m     hidden_states: torch\u001b[38;5;241m.\u001b[39mTensor,\n\u001b[1;32m   (...)\u001b[0m\n\u001b[0;32m    492\u001b[0m ) \u001b[38;5;241m-\u001b[39m\u001b[38;5;241m>\u001b[39m Tuple[torch\u001b[38;5;241m.\u001b[39mTensor]:\n\u001b[0;32m    493\u001b[0m     \u001b[38;5;66;03m# decoder uni-directional self-attention cached key/values tuple is at positions 1,2\u001b[39;00m\n\u001b[0;32m    494\u001b[0m     self_attn_past_key_value \u001b[38;5;241m=\u001b[39m past_key_value[:\u001b[38;5;241m2\u001b[39m] \u001b[38;5;28;01mif\u001b[39;00m past_key_value \u001b[38;5;129;01mis\u001b[39;00m \u001b[38;5;129;01mnot\u001b[39;00m \u001b[38;5;28;01mNone\u001b[39;00m \u001b[38;5;28;01melse\u001b[39;00m \u001b[38;5;28;01mNone\u001b[39;00m\n\u001b[1;32m--> 495\u001b[0m     self_attention_outputs \u001b[38;5;241m=\u001b[39m \u001b[38;5;28;43mself\u001b[39;49m\u001b[38;5;241;43m.\u001b[39;49m\u001b[43mattention\u001b[49m\u001b[43m(\u001b[49m\n\u001b[0;32m    496\u001b[0m \u001b[43m        \u001b[49m\u001b[43mhidden_states\u001b[49m\u001b[43m,\u001b[49m\n\u001b[0;32m    497\u001b[0m \u001b[43m        \u001b[49m\u001b[43mattention_mask\u001b[49m\u001b[43m,\u001b[49m\n\u001b[0;32m    498\u001b[0m \u001b[43m        \u001b[49m\u001b[43mhead_mask\u001b[49m\u001b[43m,\u001b[49m\n\u001b[0;32m    499\u001b[0m \u001b[43m        \u001b[49m\u001b[43moutput_attentions\u001b[49m\u001b[38;5;241;43m=\u001b[39;49m\u001b[43moutput_attentions\u001b[49m\u001b[43m,\u001b[49m\n\u001b[0;32m    500\u001b[0m \u001b[43m        \u001b[49m\u001b[43mpast_key_value\u001b[49m\u001b[38;5;241;43m=\u001b[39;49m\u001b[43mself_attn_past_key_value\u001b[49m\u001b[43m,\u001b[49m\n\u001b[0;32m    501\u001b[0m \u001b[43m    \u001b[49m\u001b[43m)\u001b[49m\n\u001b[0;32m    502\u001b[0m     attention_output \u001b[38;5;241m=\u001b[39m self_attention_outputs[\u001b[38;5;241m0\u001b[39m]\n\u001b[0;32m    504\u001b[0m     \u001b[38;5;66;03m# if decoder, the last output is tuple of self-attn cache\u001b[39;00m\n",
      "File \u001b[1;32m~\\anaconda3\\lib\\site-packages\\torch\\nn\\modules\\module.py:1130\u001b[0m, in \u001b[0;36mModule._call_impl\u001b[1;34m(self, *input, **kwargs)\u001b[0m\n\u001b[0;32m   1126\u001b[0m \u001b[38;5;66;03m# If we don't have any hooks, we want to skip the rest of the logic in\u001b[39;00m\n\u001b[0;32m   1127\u001b[0m \u001b[38;5;66;03m# this function, and just call forward.\u001b[39;00m\n\u001b[0;32m   1128\u001b[0m \u001b[38;5;28;01mif\u001b[39;00m \u001b[38;5;129;01mnot\u001b[39;00m (\u001b[38;5;28mself\u001b[39m\u001b[38;5;241m.\u001b[39m_backward_hooks \u001b[38;5;129;01mor\u001b[39;00m \u001b[38;5;28mself\u001b[39m\u001b[38;5;241m.\u001b[39m_forward_hooks \u001b[38;5;129;01mor\u001b[39;00m \u001b[38;5;28mself\u001b[39m\u001b[38;5;241m.\u001b[39m_forward_pre_hooks \u001b[38;5;129;01mor\u001b[39;00m _global_backward_hooks\n\u001b[0;32m   1129\u001b[0m         \u001b[38;5;129;01mor\u001b[39;00m _global_forward_hooks \u001b[38;5;129;01mor\u001b[39;00m _global_forward_pre_hooks):\n\u001b[1;32m-> 1130\u001b[0m     \u001b[38;5;28;01mreturn\u001b[39;00m forward_call(\u001b[38;5;241m*\u001b[39m\u001b[38;5;28minput\u001b[39m, \u001b[38;5;241m*\u001b[39m\u001b[38;5;241m*\u001b[39mkwargs)\n\u001b[0;32m   1131\u001b[0m \u001b[38;5;66;03m# Do not call functions when jit is used\u001b[39;00m\n\u001b[0;32m   1132\u001b[0m full_backward_hooks, non_full_backward_hooks \u001b[38;5;241m=\u001b[39m [], []\n",
      "File \u001b[1;32m~\\anaconda3\\lib\\site-packages\\transformers\\models\\bert\\modeling_bert.py:425\u001b[0m, in \u001b[0;36mBertAttention.forward\u001b[1;34m(self, hidden_states, attention_mask, head_mask, encoder_hidden_states, encoder_attention_mask, past_key_value, output_attentions)\u001b[0m\n\u001b[0;32m    415\u001b[0m \u001b[38;5;28;01mdef\u001b[39;00m \u001b[38;5;21mforward\u001b[39m(\n\u001b[0;32m    416\u001b[0m     \u001b[38;5;28mself\u001b[39m,\n\u001b[0;32m    417\u001b[0m     hidden_states: torch\u001b[38;5;241m.\u001b[39mTensor,\n\u001b[1;32m   (...)\u001b[0m\n\u001b[0;32m    423\u001b[0m     output_attentions: Optional[\u001b[38;5;28mbool\u001b[39m] \u001b[38;5;241m=\u001b[39m \u001b[38;5;28;01mFalse\u001b[39;00m,\n\u001b[0;32m    424\u001b[0m ) \u001b[38;5;241m-\u001b[39m\u001b[38;5;241m>\u001b[39m Tuple[torch\u001b[38;5;241m.\u001b[39mTensor]:\n\u001b[1;32m--> 425\u001b[0m     self_outputs \u001b[38;5;241m=\u001b[39m \u001b[38;5;28;43mself\u001b[39;49m\u001b[38;5;241;43m.\u001b[39;49m\u001b[43mself\u001b[49m\u001b[43m(\u001b[49m\n\u001b[0;32m    426\u001b[0m \u001b[43m        \u001b[49m\u001b[43mhidden_states\u001b[49m\u001b[43m,\u001b[49m\n\u001b[0;32m    427\u001b[0m \u001b[43m        \u001b[49m\u001b[43mattention_mask\u001b[49m\u001b[43m,\u001b[49m\n\u001b[0;32m    428\u001b[0m \u001b[43m        \u001b[49m\u001b[43mhead_mask\u001b[49m\u001b[43m,\u001b[49m\n\u001b[0;32m    429\u001b[0m \u001b[43m        \u001b[49m\u001b[43mencoder_hidden_states\u001b[49m\u001b[43m,\u001b[49m\n\u001b[0;32m    430\u001b[0m \u001b[43m        \u001b[49m\u001b[43mencoder_attention_mask\u001b[49m\u001b[43m,\u001b[49m\n\u001b[0;32m    431\u001b[0m \u001b[43m        \u001b[49m\u001b[43mpast_key_value\u001b[49m\u001b[43m,\u001b[49m\n\u001b[0;32m    432\u001b[0m \u001b[43m        \u001b[49m\u001b[43moutput_attentions\u001b[49m\u001b[43m,\u001b[49m\n\u001b[0;32m    433\u001b[0m \u001b[43m    \u001b[49m\u001b[43m)\u001b[49m\n\u001b[0;32m    434\u001b[0m     attention_output \u001b[38;5;241m=\u001b[39m \u001b[38;5;28mself\u001b[39m\u001b[38;5;241m.\u001b[39moutput(self_outputs[\u001b[38;5;241m0\u001b[39m], hidden_states)\n\u001b[0;32m    435\u001b[0m     outputs \u001b[38;5;241m=\u001b[39m (attention_output,) \u001b[38;5;241m+\u001b[39m self_outputs[\u001b[38;5;241m1\u001b[39m:]  \u001b[38;5;66;03m# add attentions if we output them\u001b[39;00m\n",
      "File \u001b[1;32m~\\anaconda3\\lib\\site-packages\\torch\\nn\\modules\\module.py:1130\u001b[0m, in \u001b[0;36mModule._call_impl\u001b[1;34m(self, *input, **kwargs)\u001b[0m\n\u001b[0;32m   1126\u001b[0m \u001b[38;5;66;03m# If we don't have any hooks, we want to skip the rest of the logic in\u001b[39;00m\n\u001b[0;32m   1127\u001b[0m \u001b[38;5;66;03m# this function, and just call forward.\u001b[39;00m\n\u001b[0;32m   1128\u001b[0m \u001b[38;5;28;01mif\u001b[39;00m \u001b[38;5;129;01mnot\u001b[39;00m (\u001b[38;5;28mself\u001b[39m\u001b[38;5;241m.\u001b[39m_backward_hooks \u001b[38;5;129;01mor\u001b[39;00m \u001b[38;5;28mself\u001b[39m\u001b[38;5;241m.\u001b[39m_forward_hooks \u001b[38;5;129;01mor\u001b[39;00m \u001b[38;5;28mself\u001b[39m\u001b[38;5;241m.\u001b[39m_forward_pre_hooks \u001b[38;5;129;01mor\u001b[39;00m _global_backward_hooks\n\u001b[0;32m   1129\u001b[0m         \u001b[38;5;129;01mor\u001b[39;00m _global_forward_hooks \u001b[38;5;129;01mor\u001b[39;00m _global_forward_pre_hooks):\n\u001b[1;32m-> 1130\u001b[0m     \u001b[38;5;28;01mreturn\u001b[39;00m forward_call(\u001b[38;5;241m*\u001b[39m\u001b[38;5;28minput\u001b[39m, \u001b[38;5;241m*\u001b[39m\u001b[38;5;241m*\u001b[39mkwargs)\n\u001b[0;32m   1131\u001b[0m \u001b[38;5;66;03m# Do not call functions when jit is used\u001b[39;00m\n\u001b[0;32m   1132\u001b[0m full_backward_hooks, non_full_backward_hooks \u001b[38;5;241m=\u001b[39m [], []\n",
      "File \u001b[1;32m~\\anaconda3\\lib\\site-packages\\transformers\\models\\bert\\modeling_bert.py:307\u001b[0m, in \u001b[0;36mBertSelfAttention.forward\u001b[1;34m(self, hidden_states, attention_mask, head_mask, encoder_hidden_states, encoder_attention_mask, past_key_value, output_attentions)\u001b[0m\n\u001b[0;32m    305\u001b[0m \u001b[38;5;28;01melse\u001b[39;00m:\n\u001b[0;32m    306\u001b[0m     key_layer \u001b[38;5;241m=\u001b[39m \u001b[38;5;28mself\u001b[39m\u001b[38;5;241m.\u001b[39mtranspose_for_scores(\u001b[38;5;28mself\u001b[39m\u001b[38;5;241m.\u001b[39mkey(hidden_states))\n\u001b[1;32m--> 307\u001b[0m     value_layer \u001b[38;5;241m=\u001b[39m \u001b[38;5;28mself\u001b[39m\u001b[38;5;241m.\u001b[39mtranspose_for_scores(\u001b[38;5;28;43mself\u001b[39;49m\u001b[38;5;241;43m.\u001b[39;49m\u001b[43mvalue\u001b[49m\u001b[43m(\u001b[49m\u001b[43mhidden_states\u001b[49m\u001b[43m)\u001b[49m)\n\u001b[0;32m    309\u001b[0m query_layer \u001b[38;5;241m=\u001b[39m \u001b[38;5;28mself\u001b[39m\u001b[38;5;241m.\u001b[39mtranspose_for_scores(mixed_query_layer)\n\u001b[0;32m    311\u001b[0m use_cache \u001b[38;5;241m=\u001b[39m past_key_value \u001b[38;5;129;01mis\u001b[39;00m \u001b[38;5;129;01mnot\u001b[39;00m \u001b[38;5;28;01mNone\u001b[39;00m\n",
      "File \u001b[1;32m~\\anaconda3\\lib\\site-packages\\torch\\nn\\modules\\module.py:1130\u001b[0m, in \u001b[0;36mModule._call_impl\u001b[1;34m(self, *input, **kwargs)\u001b[0m\n\u001b[0;32m   1126\u001b[0m \u001b[38;5;66;03m# If we don't have any hooks, we want to skip the rest of the logic in\u001b[39;00m\n\u001b[0;32m   1127\u001b[0m \u001b[38;5;66;03m# this function, and just call forward.\u001b[39;00m\n\u001b[0;32m   1128\u001b[0m \u001b[38;5;28;01mif\u001b[39;00m \u001b[38;5;129;01mnot\u001b[39;00m (\u001b[38;5;28mself\u001b[39m\u001b[38;5;241m.\u001b[39m_backward_hooks \u001b[38;5;129;01mor\u001b[39;00m \u001b[38;5;28mself\u001b[39m\u001b[38;5;241m.\u001b[39m_forward_hooks \u001b[38;5;129;01mor\u001b[39;00m \u001b[38;5;28mself\u001b[39m\u001b[38;5;241m.\u001b[39m_forward_pre_hooks \u001b[38;5;129;01mor\u001b[39;00m _global_backward_hooks\n\u001b[0;32m   1129\u001b[0m         \u001b[38;5;129;01mor\u001b[39;00m _global_forward_hooks \u001b[38;5;129;01mor\u001b[39;00m _global_forward_pre_hooks):\n\u001b[1;32m-> 1130\u001b[0m     \u001b[38;5;28;01mreturn\u001b[39;00m forward_call(\u001b[38;5;241m*\u001b[39m\u001b[38;5;28minput\u001b[39m, \u001b[38;5;241m*\u001b[39m\u001b[38;5;241m*\u001b[39mkwargs)\n\u001b[0;32m   1131\u001b[0m \u001b[38;5;66;03m# Do not call functions when jit is used\u001b[39;00m\n\u001b[0;32m   1132\u001b[0m full_backward_hooks, non_full_backward_hooks \u001b[38;5;241m=\u001b[39m [], []\n",
      "File \u001b[1;32m~\\anaconda3\\lib\\site-packages\\torch\\nn\\modules\\linear.py:114\u001b[0m, in \u001b[0;36mLinear.forward\u001b[1;34m(self, input)\u001b[0m\n\u001b[0;32m    113\u001b[0m \u001b[38;5;28;01mdef\u001b[39;00m \u001b[38;5;21mforward\u001b[39m(\u001b[38;5;28mself\u001b[39m, \u001b[38;5;28minput\u001b[39m: Tensor) \u001b[38;5;241m-\u001b[39m\u001b[38;5;241m>\u001b[39m Tensor:\n\u001b[1;32m--> 114\u001b[0m     \u001b[38;5;28;01mreturn\u001b[39;00m \u001b[43mF\u001b[49m\u001b[38;5;241;43m.\u001b[39;49m\u001b[43mlinear\u001b[49m\u001b[43m(\u001b[49m\u001b[38;5;28;43minput\u001b[39;49m\u001b[43m,\u001b[49m\u001b[43m \u001b[49m\u001b[38;5;28;43mself\u001b[39;49m\u001b[38;5;241;43m.\u001b[39;49m\u001b[43mweight\u001b[49m\u001b[43m,\u001b[49m\u001b[43m \u001b[49m\u001b[38;5;28;43mself\u001b[39;49m\u001b[38;5;241;43m.\u001b[39;49m\u001b[43mbias\u001b[49m\u001b[43m)\u001b[49m\n",
      "\u001b[1;31mKeyboardInterrupt\u001b[0m: "
     ]
    }
   ],
   "source": [
    "df['main_ner'] =  df['Main title'].progress_apply(ner)"
   ]
  },
  {
   "cell_type": "markdown",
   "id": "928b2e29-7315-48bd-9e93-c2f2c3f697f3",
   "metadata": {},
   "source": [
    "## Get openstreetmap data"
   ]
  },
  {
   "cell_type": "markdown",
   "id": "fb418a66-d4c0-4deb-841c-af61b9e40734",
   "metadata": {
    "tags": []
   },
   "source": [
    "Function that will get openstreetmap data given named entities tagged as location. Note: a number of generic location names are filtered out, and *Belgium* is added to final list of named entities. Request is sent to Streemap's Nominatim API. We'll pause for one second (rate-limiting as per the API rules).\n",
    "\n",
    "Note: we should probably cache results and re-use for same queries"
   ]
  },
  {
   "cell_type": "code",
   "execution_count": 11,
   "id": "e9fc8a51-f478-46ec-b1bd-22fc6e160b5a",
   "metadata": {
    "tags": []
   },
   "outputs": [],
   "source": [
    "def get_openstreetmap_data(ner_data):\n",
    "    stop_elements = ['Gebouwen', 'Kastelen', 'Molens', 'Kapellen', 'Panorama',\n",
    "                 'Boten', 'Ramp', 'Vertrekken', 'Natuur']\n",
    "    \n",
    "    locations = []\n",
    "    for ne in ner_data:\n",
    "        if ne['entity_group'] == 'LOC':\n",
    "            locations.append(ne['word'])\n",
    "    locations = [loc for loc in locations if not loc in stop_elements]\n",
    "    locations.append('Belgium')\n",
    "    payload = {'q': ' '.join(locations), 'format': 'json'}\n",
    "    r = requests.get('https://nominatim.openstreetmap.org/search', params=payload)\n",
    "    openstreetmap_data = json.loads(r.text)\n",
    "    time.sleep(1)\n",
    "    return openstreetmap_data"
   ]
  },
  {
   "cell_type": "code",
   "execution_count": 12,
   "id": "f2ad40c1",
   "metadata": {},
   "outputs": [
    {
     "data": {
      "text/plain": [
       "[{'entity_group': 'LOC',\n",
       "  'score': 0.9939957,\n",
       "  'word': 'Belœil',\n",
       "  'start': 0,\n",
       "  'end': 6},\n",
       " {'entity_group': 'LOC',\n",
       "  'score': 0.99763954,\n",
       "  'word': 'Gebouwen',\n",
       "  'start': 8,\n",
       "  'end': 16},\n",
       " {'entity_group': 'LOC',\n",
       "  'score': 0.9932414,\n",
       "  'word': 'Kastelen',\n",
       "  'start': 18,\n",
       "  'end': 26},\n",
       " {'entity_group': 'LOC',\n",
       "  'score': 0.7462085,\n",
       "  'word': 'Park',\n",
       "  'start': 28,\n",
       "  'end': 32}]"
      ]
     },
     "execution_count": 12,
     "metadata": {},
     "output_type": "execute_result"
    }
   ],
   "source": [
    "df['uniform_ner'][1]"
   ]
  },
  {
   "cell_type": "markdown",
   "id": "1b829c9c-890a-4af8-afb5-62b7cd3664a3",
   "metadata": {},
   "source": [
    "Example result returned for first NE tags"
   ]
  },
  {
   "cell_type": "code",
   "execution_count": 13,
   "id": "2daf0821-7acc-4f9f-9ec7-1e684707669a",
   "metadata": {
    "tags": []
   },
   "outputs": [
    {
     "data": {
      "text/plain": [
       "[{'place_id': 144582695,\n",
       "  'licence': 'Data © OpenStreetMap contributors, ODbL 1.0. https://osm.org/copyright',\n",
       "  'osm_type': 'way',\n",
       "  'osm_id': 165635705,\n",
       "  'boundingbox': ['50.5454353', '50.553389', '3.7193868', '3.7327803'],\n",
       "  'lat': '50.5494354',\n",
       "  'lon': '3.7264512060049375',\n",
       "  'display_name': 'Parc & Château de Belœil, Belœil, Ath, Hainaut, Wallonie, 7970, België / Belgique / Belgien',\n",
       "  'class': 'leisure',\n",
       "  'type': 'park',\n",
       "  'importance': 0.26}]"
      ]
     },
     "execution_count": 13,
     "metadata": {},
     "output_type": "execute_result"
    }
   ],
   "source": [
    "get_openstreetmap_data(df['uniform_ner'][1])"
   ]
  },
  {
   "cell_type": "markdown",
   "id": "b9866197-dc59-4f33-a22c-d820a0ce3aa1",
   "metadata": {},
   "source": [
    "This will query results for the entire dataset. This will take a bit of time to run. Note: we should be probably properly save intermediate results. "
   ]
  },
  {
   "cell_type": "code",
   "execution_count": 14,
   "id": "ba7bff1e-06fa-45b8-8ead-7f2f851b90f2",
   "metadata": {
    "tags": []
   },
   "outputs": [
    {
     "name": "stderr",
     "output_type": "stream",
     "text": [
      "100%|██████████| 35650/35650 [11:31:29<00:00,  1.16s/it]  \n"
     ]
    }
   ],
   "source": [
    "df['openstreetmap_data'] = df['uniform_ner'].progress_apply(get_openstreetmap_data)"
   ]
  },
  {
   "cell_type": "code",
   "execution_count": 16,
   "id": "37211cd1",
   "metadata": {},
   "outputs": [
    {
     "data": {
      "text/plain": [
       "[{'place_id': 144582695,\n",
       "  'licence': 'Data © OpenStreetMap contributors, ODbL 1.0. https://osm.org/copyright',\n",
       "  'osm_type': 'way',\n",
       "  'osm_id': 165635705,\n",
       "  'boundingbox': ['50.5454353', '50.553389', '3.7193868', '3.7327803'],\n",
       "  'lat': '50.5494354',\n",
       "  'lon': '3.7264512060049375',\n",
       "  'display_name': 'Parc & Château de Belœil, Belœil, Ath, Hainaut, Wallonie, 7970, België / Belgique / Belgien',\n",
       "  'class': 'leisure',\n",
       "  'type': 'park',\n",
       "  'importance': 0.26}]"
      ]
     },
     "execution_count": 16,
     "metadata": {},
     "output_type": "execute_result"
    }
   ],
   "source": [
    "df['openstreetmap_data']\n"
   ]
  },
  {
   "cell_type": "code",
   "execution_count": 17,
   "id": "ad092993",
   "metadata": {},
   "outputs": [],
   "source": [
    "df.to_csv('withopenstreetmapdata.csv', encoding='utf-8', index=False)"
   ]
  },
  {
   "cell_type": "code",
   "execution_count": 19,
   "id": "08dfad39",
   "metadata": {},
   "outputs": [],
   "source": [
    "dfnew = pd.read_csv('/Users/dawn/Desktop/hackathon/poststarts/notebooks/withopenstreetmapdata.csv')"
   ]
  },
  {
   "cell_type": "code",
   "execution_count": 20,
   "id": "78efb26e",
   "metadata": {},
   "outputs": [
    {
     "data": {
      "text/html": [
       "<div>\n",
       "<style scoped>\n",
       "    .dataframe tbody tr th:only-of-type {\n",
       "        vertical-align: middle;\n",
       "    }\n",
       "\n",
       "    .dataframe tbody tr th {\n",
       "        vertical-align: top;\n",
       "    }\n",
       "\n",
       "    .dataframe thead th {\n",
       "        text-align: right;\n",
       "    }\n",
       "</style>\n",
       "<table border=\"1\" class=\"dataframe\">\n",
       "  <thead>\n",
       "    <tr style=\"text-align: right;\">\n",
       "      <th></th>\n",
       "      <th>MMS ID</th>\n",
       "      <th>Uniform title</th>\n",
       "      <th>Main title</th>\n",
       "      <th>Variant title</th>\n",
       "      <th>Place of publication</th>\n",
       "      <th>Publisher</th>\n",
       "      <th>Date</th>\n",
       "      <th>Material type</th>\n",
       "      <th>Colour</th>\n",
       "      <th>General note</th>\n",
       "      <th>...</th>\n",
       "      <th>Terms of use</th>\n",
       "      <th>Author (main entry)</th>\n",
       "      <th>Author (added entry)</th>\n",
       "      <th>Group title</th>\n",
       "      <th>Language</th>\n",
       "      <th>Country of publication</th>\n",
       "      <th>Resolver URL</th>\n",
       "      <th>Label (Library Call number)</th>\n",
       "      <th>uniform_ner</th>\n",
       "      <th>openstreetmap_data</th>\n",
       "    </tr>\n",
       "  </thead>\n",
       "  <tbody>\n",
       "    <tr>\n",
       "      <th>0</th>\n",
       "      <td>1</td>\n",
       "      <td>130$a</td>\n",
       "      <td>245$a</td>\n",
       "      <td>246$a</td>\n",
       "      <td>264$a</td>\n",
       "      <td>264$b</td>\n",
       "      <td>264$c</td>\n",
       "      <td>340$a</td>\n",
       "      <td>340$o</td>\n",
       "      <td>500$a</td>\n",
       "      <td>...</td>\n",
       "      <td>542$u</td>\n",
       "      <td>100$a Name 100$d biographical data 100$e relat...</td>\n",
       "      <td>700$a Name 700$d biographical data 700$e relat...</td>\n",
       "      <td>830$a</td>\n",
       "      <td>008$35:3</td>\n",
       "      <td>008$15:2</td>\n",
       "      <td>856$u</td>\n",
       "      <td>856$y</td>\n",
       "      <td>[{'entity_group': 'MISC', 'score': 0.95299965,...</td>\n",
       "      <td>[{'place_id': 297452507, 'licence': 'Data © Op...</td>\n",
       "    </tr>\n",
       "    <tr>\n",
       "      <th>1</th>\n",
       "      <td>9990136310101488</td>\n",
       "      <td>Belœil. Gebouwen. Kastelen. Park</td>\n",
       "      <td>Belœil. Le parc. Le groupe de Neptune - Het pa...</td>\n",
       "      <td>NaN</td>\n",
       "      <td>[lieu de publication inconnu]</td>\n",
       "      <td>[éditeur inconnu]</td>\n",
       "      <td>[date de publication inconnue]</td>\n",
       "      <td>Graphic</td>\n",
       "      <td>Black-and-white.</td>\n",
       "      <td>Neptunusfontein;Kasteel van Belœil;Titelgegeve...</td>\n",
       "      <td>...</td>\n",
       "      <td>gebruiksvoorwaarden</td>\n",
       "      <td>NaN</td>\n",
       "      <td>NaN</td>\n",
       "      <td>België. Provincie Henegouwen. Prentkaarten ; B...</td>\n",
       "      <td>fre</td>\n",
       "      <td>\\\\</td>\n",
       "      <td>http://resolver.libis.be/IE2777387/representation</td>\n",
       "      <td>KU Leuven Libraries BIBC BRES GP002180</td>\n",
       "      <td>[{'entity_group': 'LOC', 'score': 0.9939957, '...</td>\n",
       "      <td>[{'place_id': 144582695, 'licence': 'Data © Op...</td>\n",
       "    </tr>\n",
       "    <tr>\n",
       "      <th>2</th>\n",
       "      <td>9990302540101488</td>\n",
       "      <td>Beringen. Folklore en volkscultuur</td>\n",
       "      <td>Beeringen. Grand'Place. Souvenir des Fêtes de ...</td>\n",
       "      <td>NaN</td>\n",
       "      <td>[lieu de publication inconnu]</td>\n",
       "      <td>[éditeur inconnu]</td>\n",
       "      <td>[date de publication inconnue]</td>\n",
       "      <td>Graphic</td>\n",
       "      <td>Black-and-white.</td>\n",
       "      <td>Titelgegevens ontleend aan prentkaart</td>\n",
       "      <td>...</td>\n",
       "      <td>gebruiksvoorwaarden</td>\n",
       "      <td>NaN</td>\n",
       "      <td>NaN</td>\n",
       "      <td>België. Provincie Limburg. Prentkaarten ; Belg...</td>\n",
       "      <td>fre</td>\n",
       "      <td>\\\\</td>\n",
       "      <td>http://resolver.libis.be/IE2783050/representation</td>\n",
       "      <td>KU Leuven Libraries BIBC BRES GP003454</td>\n",
       "      <td>[{'entity_group': 'LOC', 'score': 0.99905795, ...</td>\n",
       "      <td>[{'place_id': 298277599, 'licence': 'Data © Op...</td>\n",
       "    </tr>\n",
       "    <tr>\n",
       "      <th>3</th>\n",
       "      <td>9990544990101488</td>\n",
       "      <td>Bilzen. Panorama</td>\n",
       "      <td>Bilzen. Panorama</td>\n",
       "      <td>NaN</td>\n",
       "      <td>Brussel</td>\n",
       "      <td>Thill</td>\n",
       "      <td>ca. 1948</td>\n",
       "      <td>Graphic</td>\n",
       "      <td>Sepia.</td>\n",
       "      <td>Titelgegevens ontleend aan prentkaart</td>\n",
       "      <td>...</td>\n",
       "      <td>licentievoorwaarden#digi0020</td>\n",
       "      <td>NaN</td>\n",
       "      <td>NaN</td>\n",
       "      <td>België. Provincie Limburg. Prentkaarten ; Belg...</td>\n",
       "      <td>dut</td>\n",
       "      <td>\\\\</td>\n",
       "      <td>http://resolver.libis.be/IE2785913/representation</td>\n",
       "      <td>KU Leuven Libraries BIBC BRES GP004279</td>\n",
       "      <td>[{'entity_group': 'LOC', 'score': 0.92356896, ...</td>\n",
       "      <td>[{'place_id': 298038741, 'licence': 'Data © Op...</td>\n",
       "    </tr>\n",
       "    <tr>\n",
       "      <th>4</th>\n",
       "      <td>9990616780101488</td>\n",
       "      <td>Blankenberge. Panorama</td>\n",
       "      <td>Blankenberge. Là, tout n'est qu'ordre et beaut...</td>\n",
       "      <td>NaN</td>\n",
       "      <td>Bruxelles</td>\n",
       "      <td>Thill</td>\n",
       "      <td>ca. 1954</td>\n",
       "      <td>Graphic</td>\n",
       "      <td>Black-and-white.</td>\n",
       "      <td>Titelgegevens ontleend aan prentkaart</td>\n",
       "      <td>...</td>\n",
       "      <td>licentievoorwaarden#digi0020</td>\n",
       "      <td>NaN</td>\n",
       "      <td>NaN</td>\n",
       "      <td>België. Provincie West-Vlaanderen. Prentkaarte...</td>\n",
       "      <td>fre</td>\n",
       "      <td>\\\\</td>\n",
       "      <td>http://resolver.libis.be/IE2786767/representation</td>\n",
       "      <td>KU Leuven Libraries BIBC BRES GP004401</td>\n",
       "      <td>[{'entity_group': 'LOC', 'score': 0.9660541, '...</td>\n",
       "      <td>[{'place_id': 297970958, 'licence': 'Data © Op...</td>\n",
       "    </tr>\n",
       "    <tr>\n",
       "      <th>5</th>\n",
       "      <td>9990731350101488</td>\n",
       "      <td>Blankenberge. Zeedijk</td>\n",
       "      <td>Blankenberge. Grote hotels op zeedijk - Grands...</td>\n",
       "      <td>NaN</td>\n",
       "      <td>Bruxelles</td>\n",
       "      <td>Thill</td>\n",
       "      <td>[datum van uitgave onbekend]</td>\n",
       "      <td>Graphic</td>\n",
       "      <td>Black-and-white.</td>\n",
       "      <td>Titelgegevens ontleend aan prentkaart</td>\n",
       "      <td>...</td>\n",
       "      <td>licentievoorwaarden#digi0020</td>\n",
       "      <td>NaN</td>\n",
       "      <td>NaN</td>\n",
       "      <td>België. Provincie West-Vlaanderen. Prentkaarte...</td>\n",
       "      <td>dut</td>\n",
       "      <td>\\\\</td>\n",
       "      <td>http://resolver.libis.be/IE2788279/representation</td>\n",
       "      <td>KU Leuven Libraries BIBC BRES GP004617</td>\n",
       "      <td>[{'entity_group': 'LOC', 'score': 0.9758136, '...</td>\n",
       "      <td>[{'place_id': 339204887, 'licence': 'Data © Op...</td>\n",
       "    </tr>\n",
       "    <tr>\n",
       "      <th>6</th>\n",
       "      <td>9990942900101488</td>\n",
       "      <td>Borgerhout. Beelden en objecten</td>\n",
       "      <td>Anvers (Borgerhout). Statue du Général Carnot ...</td>\n",
       "      <td>NaN</td>\n",
       "      <td>[lieu de publication inconnu]</td>\n",
       "      <td>[éditeur inconnu]</td>\n",
       "      <td>ca. 1908</td>\n",
       "      <td>Graphic</td>\n",
       "      <td>Brown.</td>\n",
       "      <td>Standbeeld van generaal Carnot;Titelgegevens o...</td>\n",
       "      <td>...</td>\n",
       "      <td>gebruiksvoorwaarden</td>\n",
       "      <td>NaN</td>\n",
       "      <td>NaN</td>\n",
       "      <td>België. Provincie Antwerpen. Prentkaarten ; Be...</td>\n",
       "      <td>fre</td>\n",
       "      <td>\\\\</td>\n",
       "      <td>http://resolver.libis.be/IE2795671/representation</td>\n",
       "      <td>KU Leuven Libraries BIBC BRES GP006388</td>\n",
       "      <td>[{'entity_group': 'LOC', 'score': 0.99743384, ...</td>\n",
       "      <td>[{'place_id': 298237127, 'licence': 'Data © Op...</td>\n",
       "    </tr>\n",
       "    <tr>\n",
       "      <th>7</th>\n",
       "      <td>9991507520101488</td>\n",
       "      <td>Brussel-Bruxelles. 1905 : 75 jaar Belgische On...</td>\n",
       "      <td>75e Anniversaire de l'Indépendance Belge. Gran...</td>\n",
       "      <td>NaN</td>\n",
       "      <td>Bruxelles</td>\n",
       "      <td>Lagaert</td>\n",
       "      <td>[date de publication inconnue]</td>\n",
       "      <td>Graphic</td>\n",
       "      <td>Black-and-white.</td>\n",
       "      <td>75ste verjaardag van de Belgische Onafhankelij...</td>\n",
       "      <td>...</td>\n",
       "      <td>gebruiksvoorwaarden</td>\n",
       "      <td>NaN</td>\n",
       "      <td>NaN</td>\n",
       "      <td>België. Brussels Hoofdstedelijk Gewest. Prentk...</td>\n",
       "      <td>fre</td>\n",
       "      <td>\\\\</td>\n",
       "      <td>http://resolver.libis.be/IE2824672/representation</td>\n",
       "      <td>KU Leuven Libraries BIBC BRES GP015174</td>\n",
       "      <td>[{'entity_group': 'LOC', 'score': 0.6504053, '...</td>\n",
       "      <td>[{'place_id': 297569644, 'licence': 'Data © Op...</td>\n",
       "    </tr>\n",
       "    <tr>\n",
       "      <th>8</th>\n",
       "      <td>9991825100101488</td>\n",
       "      <td>Brugge. Gebouwen. Molens</td>\n",
       "      <td>Brugge [01]</td>\n",
       "      <td>NaN</td>\n",
       "      <td>Brussel</td>\n",
       "      <td>Thill</td>\n",
       "      <td>[datum van uitgave onbekend]</td>\n",
       "      <td>Graphic</td>\n",
       "      <td>Coloured.</td>\n",
       "      <td>Titelgegevens ontleend aan prentkaart</td>\n",
       "      <td>...</td>\n",
       "      <td>licentievoorwaarden#digi0020</td>\n",
       "      <td>NaN</td>\n",
       "      <td>NaN</td>\n",
       "      <td>België. Provincie West-Vlaanderen. Prentkaarte...</td>\n",
       "      <td>dut</td>\n",
       "      <td>\\\\</td>\n",
       "      <td>http://resolver.libis.be/IE2811127/representation</td>\n",
       "      <td>KU Leuven Libraries BIBC BRES GP010153</td>\n",
       "      <td>[{'entity_group': 'LOC', 'score': 0.99931943, ...</td>\n",
       "      <td>[{'place_id': 297704144, 'licence': 'Data © Op...</td>\n",
       "    </tr>\n",
       "    <tr>\n",
       "      <th>9</th>\n",
       "      <td>9991874840101488</td>\n",
       "      <td>Brussel-Bruxelles. Gebouwen. Kerken en Kapellen</td>\n",
       "      <td>Bruxelles. Eglise Saint Joseph. Square Frère-O...</td>\n",
       "      <td>NaN</td>\n",
       "      <td>Brussel</td>\n",
       "      <td>Thill</td>\n",
       "      <td>[date de publication inconnue]</td>\n",
       "      <td>Graphic</td>\n",
       "      <td>Coloured.</td>\n",
       "      <td>Onze Lieve Vrouw van de Altijddurende Bijstand...</td>\n",
       "      <td>...</td>\n",
       "      <td>licentievoorwaarden#digi0020</td>\n",
       "      <td>NaN</td>\n",
       "      <td>NaN</td>\n",
       "      <td>België. Brussels Hoofdstedelijk Gewest. Prentk...</td>\n",
       "      <td>fre</td>\n",
       "      <td>\\\\</td>\n",
       "      <td>http://resolver.libis.be/IE2832855/representation</td>\n",
       "      <td>KU Leuven Libraries BIBC BRES GP017055</td>\n",
       "      <td>[{'entity_group': 'LOC', 'score': 0.81561995, ...</td>\n",
       "      <td>[{'place_id': 297569644, 'licence': 'Data © Op...</td>\n",
       "    </tr>\n",
       "  </tbody>\n",
       "</table>\n",
       "<p>10 rows × 22 columns</p>\n",
       "</div>"
      ],
      "text/plain": [
       "             MMS ID                                      Uniform title  \\\n",
       "0                 1                                              130$a   \n",
       "1  9990136310101488                   Belœil. Gebouwen. Kastelen. Park   \n",
       "2  9990302540101488                 Beringen. Folklore en volkscultuur   \n",
       "3  9990544990101488                                   Bilzen. Panorama   \n",
       "4  9990616780101488                             Blankenberge. Panorama   \n",
       "5  9990731350101488                              Blankenberge. Zeedijk   \n",
       "6  9990942900101488                    Borgerhout. Beelden en objecten   \n",
       "7  9991507520101488  Brussel-Bruxelles. 1905 : 75 jaar Belgische On...   \n",
       "8  9991825100101488                           Brugge. Gebouwen. Molens   \n",
       "9  9991874840101488    Brussel-Bruxelles. Gebouwen. Kerken en Kapellen   \n",
       "\n",
       "                                          Main title Variant title  \\\n",
       "0                                              245$a         246$a   \n",
       "1  Belœil. Le parc. Le groupe de Neptune - Het pa...           NaN   \n",
       "2  Beeringen. Grand'Place. Souvenir des Fêtes de ...           NaN   \n",
       "3                                   Bilzen. Panorama           NaN   \n",
       "4  Blankenberge. Là, tout n'est qu'ordre et beaut...           NaN   \n",
       "5  Blankenberge. Grote hotels op zeedijk - Grands...           NaN   \n",
       "6  Anvers (Borgerhout). Statue du Général Carnot ...           NaN   \n",
       "7  75e Anniversaire de l'Indépendance Belge. Gran...           NaN   \n",
       "8                                        Brugge [01]           NaN   \n",
       "9  Bruxelles. Eglise Saint Joseph. Square Frère-O...           NaN   \n",
       "\n",
       "            Place of publication          Publisher  \\\n",
       "0                          264$a              264$b   \n",
       "1  [lieu de publication inconnu]  [éditeur inconnu]   \n",
       "2  [lieu de publication inconnu]  [éditeur inconnu]   \n",
       "3                        Brussel              Thill   \n",
       "4                      Bruxelles              Thill   \n",
       "5                      Bruxelles              Thill   \n",
       "6  [lieu de publication inconnu]  [éditeur inconnu]   \n",
       "7                      Bruxelles            Lagaert   \n",
       "8                        Brussel              Thill   \n",
       "9                        Brussel              Thill   \n",
       "\n",
       "                             Date Material type            Colour  \\\n",
       "0                           264$c         340$a             340$o   \n",
       "1  [date de publication inconnue]       Graphic  Black-and-white.   \n",
       "2  [date de publication inconnue]       Graphic  Black-and-white.   \n",
       "3                        ca. 1948       Graphic            Sepia.   \n",
       "4                        ca. 1954       Graphic  Black-and-white.   \n",
       "5    [datum van uitgave onbekend]       Graphic  Black-and-white.   \n",
       "6                        ca. 1908       Graphic            Brown.   \n",
       "7  [date de publication inconnue]       Graphic  Black-and-white.   \n",
       "8    [datum van uitgave onbekend]       Graphic         Coloured.   \n",
       "9  [date de publication inconnue]       Graphic         Coloured.   \n",
       "\n",
       "                                        General note  ...  \\\n",
       "0                                              500$a  ...   \n",
       "1  Neptunusfontein;Kasteel van Belœil;Titelgegeve...  ...   \n",
       "2              Titelgegevens ontleend aan prentkaart  ...   \n",
       "3              Titelgegevens ontleend aan prentkaart  ...   \n",
       "4              Titelgegevens ontleend aan prentkaart  ...   \n",
       "5              Titelgegevens ontleend aan prentkaart  ...   \n",
       "6  Standbeeld van generaal Carnot;Titelgegevens o...  ...   \n",
       "7  75ste verjaardag van de Belgische Onafhankelij...  ...   \n",
       "8              Titelgegevens ontleend aan prentkaart  ...   \n",
       "9  Onze Lieve Vrouw van de Altijddurende Bijstand...  ...   \n",
       "\n",
       "                   Terms of use  \\\n",
       "0                         542$u   \n",
       "1           gebruiksvoorwaarden   \n",
       "2           gebruiksvoorwaarden   \n",
       "3  licentievoorwaarden#digi0020   \n",
       "4  licentievoorwaarden#digi0020   \n",
       "5  licentievoorwaarden#digi0020   \n",
       "6           gebruiksvoorwaarden   \n",
       "7           gebruiksvoorwaarden   \n",
       "8  licentievoorwaarden#digi0020   \n",
       "9  licentievoorwaarden#digi0020   \n",
       "\n",
       "                                 Author (main entry)  \\\n",
       "0  100$a Name 100$d biographical data 100$e relat...   \n",
       "1                                                NaN   \n",
       "2                                                NaN   \n",
       "3                                                NaN   \n",
       "4                                                NaN   \n",
       "5                                                NaN   \n",
       "6                                                NaN   \n",
       "7                                                NaN   \n",
       "8                                                NaN   \n",
       "9                                                NaN   \n",
       "\n",
       "                                Author (added entry)  \\\n",
       "0  700$a Name 700$d biographical data 700$e relat...   \n",
       "1                                                NaN   \n",
       "2                                                NaN   \n",
       "3                                                NaN   \n",
       "4                                                NaN   \n",
       "5                                                NaN   \n",
       "6                                                NaN   \n",
       "7                                                NaN   \n",
       "8                                                NaN   \n",
       "9                                                NaN   \n",
       "\n",
       "                                         Group title  Language  \\\n",
       "0                                              830$a  008$35:3   \n",
       "1  België. Provincie Henegouwen. Prentkaarten ; B...       fre   \n",
       "2  België. Provincie Limburg. Prentkaarten ; Belg...       fre   \n",
       "3  België. Provincie Limburg. Prentkaarten ; Belg...       dut   \n",
       "4  België. Provincie West-Vlaanderen. Prentkaarte...       fre   \n",
       "5  België. Provincie West-Vlaanderen. Prentkaarte...       dut   \n",
       "6  België. Provincie Antwerpen. Prentkaarten ; Be...       fre   \n",
       "7  België. Brussels Hoofdstedelijk Gewest. Prentk...       fre   \n",
       "8  België. Provincie West-Vlaanderen. Prentkaarte...       dut   \n",
       "9  België. Brussels Hoofdstedelijk Gewest. Prentk...       fre   \n",
       "\n",
       "  Country of publication                                       Resolver URL  \\\n",
       "0               008$15:2                                              856$u   \n",
       "1                     \\\\  http://resolver.libis.be/IE2777387/representation   \n",
       "2                     \\\\  http://resolver.libis.be/IE2783050/representation   \n",
       "3                     \\\\  http://resolver.libis.be/IE2785913/representation   \n",
       "4                     \\\\  http://resolver.libis.be/IE2786767/representation   \n",
       "5                     \\\\  http://resolver.libis.be/IE2788279/representation   \n",
       "6                     \\\\  http://resolver.libis.be/IE2795671/representation   \n",
       "7                     \\\\  http://resolver.libis.be/IE2824672/representation   \n",
       "8                     \\\\  http://resolver.libis.be/IE2811127/representation   \n",
       "9                     \\\\  http://resolver.libis.be/IE2832855/representation   \n",
       "\n",
       "              Label (Library Call number)  \\\n",
       "0                                   856$y   \n",
       "1  KU Leuven Libraries BIBC BRES GP002180   \n",
       "2  KU Leuven Libraries BIBC BRES GP003454   \n",
       "3  KU Leuven Libraries BIBC BRES GP004279   \n",
       "4  KU Leuven Libraries BIBC BRES GP004401   \n",
       "5  KU Leuven Libraries BIBC BRES GP004617   \n",
       "6  KU Leuven Libraries BIBC BRES GP006388   \n",
       "7  KU Leuven Libraries BIBC BRES GP015174   \n",
       "8  KU Leuven Libraries BIBC BRES GP010153   \n",
       "9  KU Leuven Libraries BIBC BRES GP017055   \n",
       "\n",
       "                                         uniform_ner  \\\n",
       "0  [{'entity_group': 'MISC', 'score': 0.95299965,...   \n",
       "1  [{'entity_group': 'LOC', 'score': 0.9939957, '...   \n",
       "2  [{'entity_group': 'LOC', 'score': 0.99905795, ...   \n",
       "3  [{'entity_group': 'LOC', 'score': 0.92356896, ...   \n",
       "4  [{'entity_group': 'LOC', 'score': 0.9660541, '...   \n",
       "5  [{'entity_group': 'LOC', 'score': 0.9758136, '...   \n",
       "6  [{'entity_group': 'LOC', 'score': 0.99743384, ...   \n",
       "7  [{'entity_group': 'LOC', 'score': 0.6504053, '...   \n",
       "8  [{'entity_group': 'LOC', 'score': 0.99931943, ...   \n",
       "9  [{'entity_group': 'LOC', 'score': 0.81561995, ...   \n",
       "\n",
       "                                  openstreetmap_data  \n",
       "0  [{'place_id': 297452507, 'licence': 'Data © Op...  \n",
       "1  [{'place_id': 144582695, 'licence': 'Data © Op...  \n",
       "2  [{'place_id': 298277599, 'licence': 'Data © Op...  \n",
       "3  [{'place_id': 298038741, 'licence': 'Data © Op...  \n",
       "4  [{'place_id': 297970958, 'licence': 'Data © Op...  \n",
       "5  [{'place_id': 339204887, 'licence': 'Data © Op...  \n",
       "6  [{'place_id': 298237127, 'licence': 'Data © Op...  \n",
       "7  [{'place_id': 297569644, 'licence': 'Data © Op...  \n",
       "8  [{'place_id': 297704144, 'licence': 'Data © Op...  \n",
       "9  [{'place_id': 297569644, 'licence': 'Data © Op...  \n",
       "\n",
       "[10 rows x 22 columns]"
      ]
     },
     "execution_count": 20,
     "metadata": {},
     "output_type": "execute_result"
    }
   ],
   "source": [
    "dfnew.head(10)"
   ]
  }
 ],
 "metadata": {
  "kernelspec": {
   "display_name": "Python 3 (ipykernel)",
   "language": "python",
   "name": "python3"
  },
  "language_info": {
   "codemirror_mode": {
    "name": "ipython",
    "version": 3
   },
   "file_extension": ".py",
   "mimetype": "text/x-python",
   "name": "python",
   "nbconvert_exporter": "python",
   "pygments_lexer": "ipython3",
   "version": "3.9.12"
  }
 },
 "nbformat": 4,
 "nbformat_minor": 5
}
