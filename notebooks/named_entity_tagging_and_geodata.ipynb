{
 "cells": [
  {
   "cell_type": "code",
   "execution_count": 28,
   "id": "0804b6ba-3192-47f0-8d96-c751b4b1b56b",
   "metadata": {
    "tags": []
   },
   "outputs": [],
   "source": [
    "import pandas as pd\n",
    "import transformers\n",
    "import requests\n",
    "import time\n",
    "import json\n",
    "import requests\n",
    "import time\n",
    "\n",
    "from tqdm import tqdm\n",
    "\n",
    "tqdm.pandas()"
   ]
  },
  {
   "cell_type": "markdown",
   "id": "438b767e-3dd9-4ab9-b41c-99ef6d8ba4f4",
   "metadata": {},
   "source": [
    "## Named entity tagging\n",
    "\n",
    "Load the wikineural named entity tagging model, which works for 9 languages, including dutch and french "
   ]
  },
  {
   "cell_type": "code",
   "execution_count": 3,
   "id": "df6afe42-fa83-46b5-bb2e-3861e637a19d",
   "metadata": {
    "tags": []
   },
   "outputs": [],
   "source": [
    "from transformers import AutoTokenizer, AutoModelForTokenClassification\n",
    "from transformers import pipeline\n",
    "\n",
    "tokenizer = AutoTokenizer.from_pretrained(\"Babelscape/wikineural-multilingual-ner\")\n",
    "model = AutoModelForTokenClassification.from_pretrained(\"Babelscape/wikineural-multilingual-ner\")"
   ]
  },
  {
   "cell_type": "markdown",
   "id": "d118a060-574b-4be9-bc97-b2a8542f4850",
   "metadata": {
    "tags": []
   },
   "source": [
    "the actual pipeline; `device=0` will run this on the GPU"
   ]
  },
  {
   "cell_type": "code",
   "execution_count": 8,
   "id": "8c4efd03-7efc-483e-a388-2243174eac1b",
   "metadata": {
    "tags": []
   },
   "outputs": [],
   "source": [
    "ner = pipeline(\"ner\", model=model, tokenizer=tokenizer, aggregation_strategy=\"first\", device=0)"
   ]
  },
  {
   "cell_type": "markdown",
   "id": "21bb6f48-9932-4530-8a46-af45c225a0d7",
   "metadata": {},
   "source": [
    "Example; *Diskmuide* is indeed tagged as a location, whereas *Wereldoorlog I* is tagged as miscellaneous"
   ]
  },
  {
   "cell_type": "code",
   "execution_count": 9,
   "id": "a9c66b5c-7539-4301-bc28-3aa8a5c79bc7",
   "metadata": {
    "tags": []
   },
   "outputs": [
    {
     "name": "stdout",
     "output_type": "stream",
     "text": [
      "[{'entity_group': 'LOC', 'score': 0.9867822, 'word': 'Diksmuide', 'start': 0, 'end': 9}, {'entity_group': 'MISC', 'score': 0.9712352, 'word': 'Wereldoorlog I', 'start': 11, 'end': 25}]\n"
     ]
    }
   ],
   "source": [
    "example = \"Diksmuide. Wereldoorlog I (1914-1918)\"\n",
    "\n",
    "ner_results = ner(example)\n",
    "print(ner_results)"
   ]
  },
  {
   "cell_type": "markdown",
   "id": "26a487d3-c5c7-4c36-a183-c9168ec15dc3",
   "metadata": {},
   "source": [
    "Let's apply this to our dataset"
   ]
  },
  {
   "cell_type": "code",
   "execution_count": 6,
   "id": "77e5ff8b-8014-4392-84d5-00da9aea6eb9",
   "metadata": {
    "tags": []
   },
   "outputs": [],
   "source": [
    "df = pd.read_csv('20230301_Postcards.csv')"
   ]
  },
  {
   "cell_type": "markdown",
   "id": "0dcbd9f8-b896-4105-8d9e-842ae3e69721",
   "metadata": {},
   "source": [
    "One title is actually missing from the dataset; we'll just add it in, to make sure the model doesn't break"
   ]
  },
  {
   "cell_type": "code",
   "execution_count": 7,
   "id": "691cb788-8c83-47aa-b1d1-f800bf71bbe6",
   "metadata": {
    "tags": []
   },
   "outputs": [],
   "source": [
    "df.loc[35447, 'Uniform title'] = 'Antwerpen. Beelden en objecten. Koninklijk Museum voor Schone Kunsten'"
   ]
  },
  {
   "cell_type": "markdown",
   "id": "125d53b6-7468-4c5b-ab05-c27ade231c85",
   "metadata": {},
   "source": [
    "Apply to *Uniform title* and *Main title*, though we'll just use *Uniform title* for now for geo lookup (Main title often contains data that is more precise, but also is more messy).\n",
    "\n",
    "Note: if we were to batch these together in a dataset, this could be run more efficient (but doesn't take so long in the end, so won't bother)"
   ]
  },
  {
   "cell_type": "code",
   "execution_count": 13,
   "id": "7db310d9-64f8-40fd-816c-88f33bea5f67",
   "metadata": {
    "tags": []
   },
   "outputs": [
    {
     "name": "stderr",
     "output_type": "stream",
     "text": [
      "  0%|          | 0/35650 [00:00<?, ?it/s]/data/leuven/338/vsc33847/miniconda3/envs/hackathon/lib/python3.8/site-packages/transformers/pipelines/base.py:1045: UserWarning: You seem to be using the pipelines sequentially on GPU. In order to maximize efficiency please use a dataset\n",
      "  warnings.warn(\n",
      "100%|██████████| 35650/35650 [04:05<00:00, 145.00it/s]\n"
     ]
    }
   ],
   "source": [
    "df['uniform_ner'] =  df['Uniform title'].progress_apply(ner)"
   ]
  },
  {
   "cell_type": "code",
   "execution_count": 18,
   "id": "94cc46d3-25a4-4692-acee-61d780ce6ea8",
   "metadata": {
    "tags": []
   },
   "outputs": [
    {
     "data": {
      "text/plain": [
       "[{'entity_group': 'LOC',\n",
       "  'score': 0.9939957,\n",
       "  'word': 'Belœil',\n",
       "  'start': 0,\n",
       "  'end': 6},\n",
       " {'entity_group': 'LOC',\n",
       "  'score': 0.99763954,\n",
       "  'word': 'Gebouwen',\n",
       "  'start': 8,\n",
       "  'end': 16},\n",
       " {'entity_group': 'LOC',\n",
       "  'score': 0.9932414,\n",
       "  'word': 'Kastelen',\n",
       "  'start': 18,\n",
       "  'end': 26},\n",
       " {'entity_group': 'LOC',\n",
       "  'score': 0.7462094,\n",
       "  'word': 'Park',\n",
       "  'start': 28,\n",
       "  'end': 32}]"
      ]
     },
     "execution_count": 18,
     "metadata": {},
     "output_type": "execute_result"
    }
   ],
   "source": [
    "df['uniform_ner'][1]"
   ]
  },
  {
   "cell_type": "code",
   "execution_count": 19,
   "id": "d10878dc-b495-4f81-b598-bbe37dd9874b",
   "metadata": {
    "tags": []
   },
   "outputs": [
    {
     "name": "stderr",
     "output_type": "stream",
     "text": [
      "  0%|          | 0/35650 [00:00<?, ?it/s]/data/leuven/338/vsc33847/miniconda3/envs/hackathon/lib/python3.8/site-packages/transformers/pipelines/base.py:1045: UserWarning: You seem to be using the pipelines sequentially on GPU. In order to maximize efficiency please use a dataset\n",
      "  warnings.warn(\n",
      "100%|██████████| 35650/35650 [04:26<00:00, 133.58it/s]\n"
     ]
    }
   ],
   "source": [
    "df['main_ner'] =  df['Main title'].progress_apply(ner)"
   ]
  },
  {
   "cell_type": "markdown",
   "id": "928b2e29-7315-48bd-9e93-c2f2c3f697f3",
   "metadata": {},
   "source": [
    "## Get openstreetmap data"
   ]
  },
  {
   "cell_type": "markdown",
   "id": "fb418a66-d4c0-4deb-841c-af61b9e40734",
   "metadata": {
    "tags": []
   },
   "source": [
    "Function that will get openstreetmap data given named entities tagged as location. Note: a number of generic location names are filtered out, and *Belgium* is added to final list of named entities. Request is sent to Streemap's Nominatim API. We'll pause for one second (rate-limiting as per the API rules).\n",
    "\n",
    "Note: we should probably cache results and re-use for same queries"
   ]
  },
  {
   "cell_type": "code",
   "execution_count": 30,
   "id": "e9fc8a51-f478-46ec-b1bd-22fc6e160b5a",
   "metadata": {
    "tags": []
   },
   "outputs": [],
   "source": [
    "def get_openstreetmap_data(ner_data):\n",
    "    stop_elements = ['Gebouwen', 'Kastelen', 'Molens', 'Kapellen', 'Panorama',\n",
    "                 'Boten', 'Ramp', 'Vertrekken', 'Natuur']\n",
    "    \n",
    "    locations = []\n",
    "    for ne in ner_data:\n",
    "        if ne['entity_group'] == 'LOC':\n",
    "            locations.append(ne['word'])\n",
    "    locations = [loc for loc in locations if not loc in stop_elements]\n",
    "    locations.append('Belgium')\n",
    "    payload = {'q': ' '.join(locations), 'format': 'json'}\n",
    "    r = requests.get('https://nominatim.openstreetmap.org/search', params=payload)\n",
    "    openstreetmap_data = json.loads(r.text)\n",
    "    time.sleep(1)\n",
    "    return openstreetmap_data"
   ]
  },
  {
   "cell_type": "markdown",
   "id": "1b829c9c-890a-4af8-afb5-62b7cd3664a3",
   "metadata": {},
   "source": [
    "Example result returned for first NE tags"
   ]
  },
  {
   "cell_type": "code",
   "execution_count": 40,
   "id": "2daf0821-7acc-4f9f-9ec7-1e684707669a",
   "metadata": {
    "tags": []
   },
   "outputs": [
    {
     "data": {
      "text/plain": [
       "[{'place_id': 144582695,\n",
       "  'licence': 'Data © OpenStreetMap contributors, ODbL 1.0. https://osm.org/copyright',\n",
       "  'osm_type': 'way',\n",
       "  'osm_id': 165635705,\n",
       "  'boundingbox': ['50.5454353', '50.553389', '3.7193868', '3.7327803'],\n",
       "  'lat': '50.5494354',\n",
       "  'lon': '3.7264512060049375',\n",
       "  'display_name': 'Parc & Château de Belœil, Belœil, Ath, Hainaut, Wallonie, 7970, België / Belgique / Belgien',\n",
       "  'class': 'leisure',\n",
       "  'type': 'park',\n",
       "  'importance': 0.26}]"
      ]
     },
     "execution_count": 40,
     "metadata": {},
     "output_type": "execute_result"
    }
   ],
   "source": [
    "get_openstreetmap_data(df['uniform_ner'][1])"
   ]
  },
  {
   "cell_type": "markdown",
   "id": "b9866197-dc59-4f33-a22c-d820a0ce3aa1",
   "metadata": {},
   "source": [
    "This will query results for the entire dataset. This will take a bit of time to run. Note: we should be probably properly save intermediate results. "
   ]
  },
  {
   "cell_type": "code",
   "execution_count": null,
   "id": "ba7bff1e-06fa-45b8-8ead-7f2f851b90f2",
   "metadata": {
    "tags": []
   },
   "outputs": [],
   "source": [
    "df['openstreetmap_data'] = df['uniform_ner'].progress_apply(get_openstreetmap_data)"
   ]
  }
 ],
 "metadata": {
  "kernelspec": {
   "display_name": "hackathon",
   "language": "python",
   "name": "hackathon"
  },
  "language_info": {
   "codemirror_mode": {
    "name": "ipython",
    "version": 3
   },
   "file_extension": ".py",
   "mimetype": "text/x-python",
   "name": "python",
   "nbconvert_exporter": "python",
   "pygments_lexer": "ipython3",
   "version": "3.8.16"
  }
 },
 "nbformat": 4,
 "nbformat_minor": 5
}
