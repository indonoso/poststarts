{
 "cells": [
  {
   "cell_type": "code",
   "execution_count": 1,
   "id": "0804b6ba-3192-47f0-8d96-c751b4b1b56b",
   "metadata": {
    "tags": []
   },
   "outputs": [
    {
     "ename": "ModuleNotFoundError",
     "evalue": "No module named 'transformers'",
     "output_type": "error",
     "traceback": [
      "\u001b[1;31m---------------------------------------------------------------------------\u001b[0m",
      "\u001b[1;31mModuleNotFoundError\u001b[0m                       Traceback (most recent call last)",
      "Input \u001b[1;32mIn [1]\u001b[0m, in \u001b[0;36m<cell line: 2>\u001b[1;34m()\u001b[0m\n\u001b[0;32m      1\u001b[0m \u001b[38;5;28;01mimport\u001b[39;00m \u001b[38;5;21;01mpandas\u001b[39;00m \u001b[38;5;28;01mas\u001b[39;00m \u001b[38;5;21;01mpd\u001b[39;00m\n\u001b[1;32m----> 2\u001b[0m \u001b[38;5;28;01mimport\u001b[39;00m \u001b[38;5;21;01mtransformers\u001b[39;00m\n\u001b[0;32m      3\u001b[0m \u001b[38;5;28;01mimport\u001b[39;00m \u001b[38;5;21;01mrequests\u001b[39;00m\n\u001b[0;32m      4\u001b[0m \u001b[38;5;28;01mimport\u001b[39;00m \u001b[38;5;21;01mtime\u001b[39;00m\n",
      "\u001b[1;31mModuleNotFoundError\u001b[0m: No module named 'transformers'"
     ]
    }
   ],
   "source": [
    "import pandas as pd\n",
    "import transformers\n",
    "import requests\n",
    "import time\n",
    "import json\n",
    "import requests\n",
    "import time\n",
    "\n",
    "from tqdm import tqdm\n",
    "\n",
    "tqdm.pandas()"
   ]
  },
  {
   "cell_type": "markdown",
   "id": "438b767e-3dd9-4ab9-b41c-99ef6d8ba4f4",
   "metadata": {},
   "source": [
    "## Named entity tagging\n",
    "\n",
    "Load the wikineural named entity tagging model, which works for 9 languages, including dutch and french "
   ]
  },
  {
   "cell_type": "code",
   "execution_count": null,
   "id": "df6afe42-fa83-46b5-bb2e-3861e637a19d",
   "metadata": {
    "tags": []
   },
   "outputs": [],
   "source": [
    "from transformers import AutoTokenizer, AutoModelForTokenClassification\n",
    "from transformers import pipeline\n",
    "\n",
    "tokenizer = AutoTokenizer.from_pretrained(\"Babelscape/wikineural-multilingual-ner\")\n",
    "model = AutoModelForTokenClassification.from_pretrained(\"Babelscape/wikineural-multilingual-ner\")"
   ]
  },
  {
   "cell_type": "markdown",
   "id": "d118a060-574b-4be9-bc97-b2a8542f4850",
   "metadata": {
    "tags": []
   },
   "source": [
    "the actual pipeline; `device=0` will run this on the GPU"
   ]
  },
  {
   "cell_type": "code",
   "execution_count": null,
   "id": "8c4efd03-7efc-483e-a388-2243174eac1b",
   "metadata": {
    "tags": []
   },
   "outputs": [],
   "source": [
    "ner = pipeline(\"ner\", model=model, tokenizer=tokenizer, aggregation_strategy=\"first\", device=0)"
   ]
  },
  {
   "cell_type": "markdown",
   "id": "21bb6f48-9932-4530-8a46-af45c225a0d7",
   "metadata": {},
   "source": [
    "Example; *Diskmuide* is indeed tagged as a location, whereas *Wereldoorlog I* is tagged as miscellaneous"
   ]
  },
  {
   "cell_type": "code",
   "execution_count": null,
   "id": "a9c66b5c-7539-4301-bc28-3aa8a5c79bc7",
   "metadata": {
    "tags": []
   },
   "outputs": [],
   "source": [
    "example = \"Diksmuide. Wereldoorlog I (1914-1918)\"\n",
    "\n",
    "ner_results = ner(example)\n",
    "print(ner_results)"
   ]
  },
  {
   "cell_type": "markdown",
   "id": "26a487d3-c5c7-4c36-a183-c9168ec15dc3",
   "metadata": {},
   "source": [
    "Let's apply this to our dataset"
   ]
  },
  {
   "cell_type": "code",
   "execution_count": null,
   "id": "77e5ff8b-8014-4392-84d5-00da9aea6eb9",
   "metadata": {
    "tags": []
   },
   "outputs": [],
   "source": [
    "df = pd.read_csv('20230301_Postcards.csv')"
   ]
  },
  {
   "cell_type": "markdown",
   "id": "0dcbd9f8-b896-4105-8d9e-842ae3e69721",
   "metadata": {},
   "source": [
    "One title is actually missing from the dataset; we'll just add it in, to make sure the model doesn't break"
   ]
  },
  {
   "cell_type": "code",
   "execution_count": null,
   "id": "691cb788-8c83-47aa-b1d1-f800bf71bbe6",
   "metadata": {
    "tags": []
   },
   "outputs": [],
   "source": [
    "df.loc[35447, 'Uniform title'] = 'Antwerpen. Beelden en objecten. Koninklijk Museum voor Schone Kunsten'"
   ]
  },
  {
   "cell_type": "markdown",
   "id": "125d53b6-7468-4c5b-ab05-c27ade231c85",
   "metadata": {},
   "source": [
    "Apply to *Uniform title* and *Main title*, though we'll just use *Uniform title* for now for geo lookup (Main title often contains data that is more precise, but also is more messy).\n",
    "\n",
    "Note: if we were to batch these together in a dataset, this could be run more efficient (but doesn't take so long in the end, so won't bother)"
   ]
  },
  {
   "cell_type": "code",
   "execution_count": null,
   "id": "7db310d9-64f8-40fd-816c-88f33bea5f67",
   "metadata": {
    "tags": []
   },
   "outputs": [],
   "source": [
    "df['uniform_ner'] =  df['Uniform title'].progress_apply(ner)"
   ]
  },
  {
   "cell_type": "code",
   "execution_count": null,
   "id": "94cc46d3-25a4-4692-acee-61d780ce6ea8",
   "metadata": {
    "tags": []
   },
   "outputs": [],
   "source": [
    "df['uniform_ner'][1]"
   ]
  },
  {
   "cell_type": "code",
   "execution_count": null,
   "id": "d10878dc-b495-4f81-b598-bbe37dd9874b",
   "metadata": {
    "tags": []
   },
   "outputs": [],
   "source": [
    "df['main_ner'] =  df['Main title'].progress_apply(ner)"
   ]
  },
  {
   "cell_type": "markdown",
   "id": "928b2e29-7315-48bd-9e93-c2f2c3f697f3",
   "metadata": {},
   "source": [
    "## Get openstreetmap data"
   ]
  },
  {
   "cell_type": "markdown",
   "id": "fb418a66-d4c0-4deb-841c-af61b9e40734",
   "metadata": {
    "tags": []
   },
   "source": [
    "Function that will get openstreetmap data given named entities tagged as location. Note: a number of generic location names are filtered out, and *Belgium* is added to final list of named entities. Request is sent to Streemap's Nominatim API. We'll pause for one second (rate-limiting as per the API rules).\n",
    "\n",
    "Note: we should probably cache results and re-use for same queries"
   ]
  },
  {
   "cell_type": "code",
   "execution_count": null,
   "id": "e9fc8a51-f478-46ec-b1bd-22fc6e160b5a",
   "metadata": {
    "tags": []
   },
   "outputs": [],
   "source": [
    "def get_openstreetmap_data(ner_data):\n",
    "    stop_elements = ['Gebouwen', 'Kastelen', 'Molens', 'Kapellen', 'Panorama',\n",
    "                 'Boten', 'Ramp', 'Vertrekken', 'Natuur']\n",
    "    \n",
    "    locations = []\n",
    "    for ne in ner_data:\n",
    "        if ne['entity_group'] == 'LOC':\n",
    "            locations.append(ne['word'])\n",
    "    locations = [loc for loc in locations if not loc in stop_elements]\n",
    "    locations.append('Belgium')\n",
    "    payload = {'q': ' '.join(locations), 'format': 'json'}\n",
    "    r = requests.get('https://nominatim.openstreetmap.org/search', params=payload)\n",
    "    openstreetmap_data = json.loads(r.text)\n",
    "    time.sleep(1)\n",
    "    return openstreetmap_data"
   ]
  },
  {
   "cell_type": "markdown",
   "id": "1b829c9c-890a-4af8-afb5-62b7cd3664a3",
   "metadata": {},
   "source": [
    "Example result returned for first NE tags"
   ]
  },
  {
   "cell_type": "code",
   "execution_count": null,
   "id": "2daf0821-7acc-4f9f-9ec7-1e684707669a",
   "metadata": {
    "tags": []
   },
   "outputs": [],
   "source": [
    "get_openstreetmap_data(df['uniform_ner'][1])"
   ]
  },
  {
   "cell_type": "markdown",
   "id": "b9866197-dc59-4f33-a22c-d820a0ce3aa1",
   "metadata": {},
   "source": [
    "This will query results for the entire dataset. This will take a bit of time to run. Note: we should be probably properly save intermediate results. "
   ]
  },
  {
   "cell_type": "code",
   "execution_count": null,
   "id": "ba7bff1e-06fa-45b8-8ead-7f2f851b90f2",
   "metadata": {
    "tags": []
   },
   "outputs": [],
   "source": [
    "df['openstreetmap_data'] = df['uniform_ner'].progress_apply(get_openstreetmap_data)"
   ]
  }
 ],
 "metadata": {
  "kernelspec": {
   "display_name": "Python 3 (ipykernel)",
   "language": "python",
   "name": "python3"
  },
  "language_info": {
   "codemirror_mode": {
    "name": "ipython",
    "version": 3
   },
   "file_extension": ".py",
   "mimetype": "text/x-python",
   "name": "python",
   "nbconvert_exporter": "python",
   "pygments_lexer": "ipython3",
   "version": "3.9.12"
  }
 },
 "nbformat": 4,
 "nbformat_minor": 5
}
