{
 "cells": [
  {
   "cell_type": "code",
   "execution_count": 1,
   "id": "db1eec34-6001-46c9-8bdb-066a9e2b6ed1",
   "metadata": {},
   "outputs": [],
   "source": [
    "import pandas as pd\n",
    "pd.set_option('display.max_colwidth', None)\n",
    "pd.set_option('display.max_rows', 100)\n",
    "import os\n",
    "from tqdm.notebook import trange, tqdm\n",
    "import numpy as np"
   ]
  },
  {
   "cell_type": "code",
   "execution_count": 2,
   "id": "e14dbc9c-9366-4372-b130-2b33f49e29a3",
   "metadata": {},
   "outputs": [],
   "source": [
    "from PIL import Image\n",
    "import requests\n",
    "from transformers import AutoProcessor, CLIPVisionModel"
   ]
  },
  {
   "cell_type": "code",
   "execution_count": 3,
   "id": "d12346e1-f16b-4fd6-9cfd-d341e75055ee",
   "metadata": {},
   "outputs": [],
   "source": [
    "import ssl\n",
    "from irods.session import iRODSSession"
   ]
  },
  {
   "cell_type": "code",
   "execution_count": 4,
   "id": "f3c38333-f354-4096-99bb-9e56a65941bf",
   "metadata": {},
   "outputs": [],
   "source": [
    "from tools import batch"
   ]
  },
  {
   "cell_type": "code",
   "execution_count": 5,
   "id": "12d3b453-99b9-4972-93a9-020832f10b10",
   "metadata": {},
   "outputs": [],
   "source": [
    "scratch_dir = \"/scratch/leuven/355/vsc35521/\"\n",
    "mango_data_folder = \"/ghum/home/ghum_pilot034/TEAM_3/\""
   ]
  },
  {
   "cell_type": "code",
   "execution_count": 6,
   "id": "03aa307f-65ae-41ac-8ec2-b9f07fdc6009",
   "metadata": {},
   "outputs": [],
   "source": [
    "try:\n",
    "    env_file = os.environ['IRODS_ENVIRONMENT_FILE']\n",
    "except KeyError:\n",
    "    env_file = os.path.expanduser('~/.irods/irods_environment.json')\n",
    "\n",
    "ssl_context = ssl.create_default_context(\n",
    "        purpose=ssl.Purpose.SERVER_AUTH,\n",
    "        cafile=None, capath=None, cadata=None\n",
    "        )\n",
    "ssl_settings = {'ssl_context': ssl_context}"
   ]
  },
  {
   "cell_type": "code",
   "execution_count": 7,
   "id": "b9144b47-9ba3-4af0-adfe-c466f93a781f",
   "metadata": {},
   "outputs": [],
   "source": [
    "session = iRODSSession(irods_env_file=env_file, **ssl_settings)\n",
    "collection = session.collections.get(\"/ghum/home/ghum_pilot034/DATASET_3\")"
   ]
  },
  {
   "cell_type": "markdown",
   "id": "cf5c2717-3437-4fd1-b57f-a15556bcb84e",
   "metadata": {
    "tags": []
   },
   "source": [
    "## Paths"
   ]
  },
  {
   "cell_type": "code",
   "execution_count": 8,
   "id": "8e91e0a1-485a-44aa-b765-f6a5a3a5ccb7",
   "metadata": {},
   "outputs": [],
   "source": [
    "df = pd.read_csv('dataset_3.csv')"
   ]
  },
  {
   "cell_type": "code",
   "execution_count": 9,
   "id": "7a555f16-0e49-40a7-b245-7eccdb8bdec0",
   "metadata": {},
   "outputs": [],
   "source": [
    "df['mango_path'] = \"/ghum/home/ghum_pilot034/DATASET_3/\" + df['IE PID'] + \"/\" + df['REP PID'] + \"/\" + df['FL PID'] + \"_\" + df['NAME']"
   ]
  },
  {
   "cell_type": "code",
   "execution_count": 10,
   "id": "e7a8d912-773e-4b00-b558-4561c9d34f33",
   "metadata": {},
   "outputs": [],
   "source": [
    "df['mango_output_path'] = \"/ghum/home/ghum_pilot034/TEAM_3/vectors/\" + df['IE PID'] + \"_\" + df['REP PID'] + \"_\" + df['FL PID'] + \"_\" + df['NAME']"
   ]
  },
  {
   "cell_type": "code",
   "execution_count": 11,
   "id": "8381d087-384a-45ec-a0c2-62c39a479afd",
   "metadata": {},
   "outputs": [],
   "source": [
    "df['server_path'] = scratch_dir + \"DATASET_3/\" + df['IE PID'] + \"/\" + df['REP PID'] + \"/\" + df['FL PID'] + \"_\" + df['NAME']"
   ]
  },
  {
   "cell_type": "markdown",
   "id": "c0b5e9a7-4d97-4661-94d6-197f003c5c6b",
   "metadata": {},
   "source": [
    "## Run CV model on the images"
   ]
  },
  {
   "cell_type": "code",
   "execution_count": null,
   "id": "67c9a716-9f71-41de-ad17-8565b478c1c9",
   "metadata": {},
   "outputs": [],
   "source": [
    "model = CLIPVisionModel.from_pretrained(\"openai/clip-vit-base-patch32\")\n",
    "processor = AutoProcessor.from_pretrained(\"openai/clip-vit-base-patch32\")\n"
   ]
  },
  {
   "cell_type": "code",
   "execution_count": 13,
   "id": "c4b42691-e66d-42af-a92e-b16b0440ceaf",
   "metadata": {},
   "outputs": [],
   "source": [
    "def get_CLIP_representation(pahts):\n",
    "    \n",
    "    for b_path in batch(paths, n=10):\n",
    "        inputs = processor(images=(Image.open(path) in b_path), return_tensors=\"pt\")\n",
    "\n",
    "        outputs = model(**inputs)\n",
    "        # last_hidden_state = outputs.last_hidden_state\n",
    "        vectors = outputs.pooler_output\n",
    "        break "
   ]
  },
  {
   "cell_type": "code",
   "execution_count": 15,
   "id": "4a647867-0b9c-4d2f-b9da-4935e823c2de",
   "metadata": {},
   "outputs": [],
   "source": [
    "df['exists_vector'] = df['server_path'].apply(lambda x: os.path.exists(x + '.npy'))"
   ]
  },
  {
   "cell_type": "code",
   "execution_count": 21,
   "id": "7302034a-a72a-464b-8b97-7f5ef4a64a66",
   "metadata": {},
   "outputs": [],
   "source": [
    "paths = df[['server_path', 'mango_output_path']][~df['exists_vector']].values"
   ]
  },
  {
   "cell_type": "code",
   "execution_count": null,
   "id": "098dbc34-c46e-45b8-884e-d53849180412",
   "metadata": {
    "tags": []
   },
   "outputs": [
    {
     "data": {
      "application/vnd.jupyter.widget-view+json": {
       "model_id": "3294a14b89cb415aaf0486dcc03dd9c7",
       "version_major": 2,
       "version_minor": 0
      },
      "text/plain": [
       "0it [00:00, ?it/s]"
      ]
     },
     "metadata": {},
     "output_type": "display_data"
    }
   ],
   "source": [
    "for code, batch_path in enumerate(tqdm(batch(paths, n=50))):\n",
    "\n",
    "    inputs = processor(images=[Image.open(path[0])for path in batch_path], return_tensors=\"pt\")\n",
    "    outputs = model(**inputs)\n",
    "    vectors = outputs.pooler_output.detach().numpy()\n",
    "        \n",
    "    for vector, (s_path, m_path) in zip(vectors, batch_path):\n",
    "        vector_path = s_path + '.npy'\n",
    "        np.save(vector_path, vector, allow_pickle=True, fix_imports=True)\n",
    "        session.data_objects.put(vector_path, m_path + '.npy')"
   ]
  },
  {
   "cell_type": "code",
   "execution_count": null,
   "id": "89f3d28a-f16a-41b2-a24c-0c4abf55d3ca",
   "metadata": {},
   "outputs": [],
   "source": [
    "paths.values"
   ]
  },
  {
   "cell_type": "code",
   "execution_count": null,
   "id": "e1d3552b-7eff-4003-baf8-397fe1a7ceb1",
   "metadata": {},
   "outputs": [],
   "source": []
  }
 ],
 "metadata": {
  "kernelspec": {
   "display_name": "irods",
   "language": "python",
   "name": "irods"
  },
  "language_info": {
   "codemirror_mode": {
    "name": "ipython",
    "version": 3
   },
   "file_extension": ".py",
   "mimetype": "text/x-python",
   "name": "python",
   "nbconvert_exporter": "python",
   "pygments_lexer": "ipython3",
   "version": "3.10.9"
  }
 },
 "nbformat": 4,
 "nbformat_minor": 5
}
