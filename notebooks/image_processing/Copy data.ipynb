{
 "cells": [
  {
   "cell_type": "code",
   "execution_count": 1,
   "id": "db1eec34-6001-46c9-8bdb-066a9e2b6ed1",
   "metadata": {},
   "outputs": [],
   "source": [
    "import pandas as pd\n",
    "pd.set_option('display.max_colwidth', None)\n",
    "pd.set_option('display.max_rows', 100)\n",
    "import os\n",
    "from tqdm.notebook import trange, tqdm"
   ]
  },
  {
   "cell_type": "code",
   "execution_count": 2,
   "id": "e14dbc9c-9366-4372-b130-2b33f49e29a3",
   "metadata": {},
   "outputs": [],
   "source": [
    "from PIL import Image\n",
    "import requests\n",
    "from transformers import AutoProcessor, CLIPVisionModel"
   ]
  },
  {
   "cell_type": "code",
   "execution_count": 3,
   "id": "d12346e1-f16b-4fd6-9cfd-d341e75055ee",
   "metadata": {},
   "outputs": [],
   "source": [
    "import ssl\n",
    "from irods.session import iRODSSession"
   ]
  },
  {
   "cell_type": "code",
   "execution_count": 4,
   "id": "f3c38333-f354-4096-99bb-9e56a65941bf",
   "metadata": {},
   "outputs": [],
   "source": [
    "from tools import batch"
   ]
  },
  {
   "cell_type": "code",
   "execution_count": 5,
   "id": "12d3b453-99b9-4972-93a9-020832f10b10",
   "metadata": {},
   "outputs": [],
   "source": [
    "scratch_dir = \"/scratch/leuven/355/vsc35521/\"\n",
    "mango_data_folder = \"/ghum/home/ghum_pilot034/TEAM_3/\""
   ]
  },
  {
   "cell_type": "markdown",
   "id": "38572dbe-e8d2-4c65-9648-5ffee3cf41fc",
   "metadata": {},
   "source": [
    "## Config mango connection"
   ]
  },
  {
   "cell_type": "code",
   "execution_count": 7,
   "id": "a30f4329-aab3-427e-8f23-439d8350f3ce",
   "metadata": {},
   "outputs": [],
   "source": [
    "try:\n",
    "    env_file = os.environ['IRODS_ENVIRONMENT_FILE']\n",
    "except KeyError:\n",
    "    env_file = os.path.expanduser('~/.irods/irods_environment.json')\n",
    "\n",
    "ssl_context = ssl.create_default_context(\n",
    "        purpose=ssl.Purpose.SERVER_AUTH,\n",
    "        cafile=None, capath=None, cadata=None\n",
    "        )\n",
    "ssl_settings = {'ssl_context': ssl_context}"
   ]
  },
  {
   "cell_type": "code",
   "execution_count": 8,
   "id": "075806d1-6155-42ab-996a-47f295dde342",
   "metadata": {},
   "outputs": [],
   "source": [
    "session = iRODSSession(irods_env_file=env_file, **ssl_settings)\n",
    "collection = session.collections.get(\"/ghum/home/ghum_pilot034/DATASET_3\")"
   ]
  },
  {
   "cell_type": "markdown",
   "id": "cf5c2717-3437-4fd1-b57f-a15556bcb84e",
   "metadata": {},
   "source": [
    "## Make sure the data is available on server "
   ]
  },
  {
   "cell_type": "code",
   "execution_count": 9,
   "id": "8e91e0a1-485a-44aa-b765-f6a5a3a5ccb7",
   "metadata": {},
   "outputs": [],
   "source": [
    "df = pd.read_csv('dataset_3.csv')"
   ]
  },
  {
   "cell_type": "code",
   "execution_count": 10,
   "id": "7a555f16-0e49-40a7-b245-7eccdb8bdec0",
   "metadata": {},
   "outputs": [],
   "source": [
    "df['mango_path'] = \"/ghum/home/ghum_pilot034/DATASET_3/\" + df['IE PID'] + \"/\" + df['REP PID'] + \"/\" + df['FL PID'] + \"_\" + df['NAME']"
   ]
  },
  {
   "cell_type": "code",
   "execution_count": 11,
   "id": "8381d087-384a-45ec-a0c2-62c39a479afd",
   "metadata": {},
   "outputs": [],
   "source": [
    "df['server_path'] = scratch_dir + \"DATASET_3/\" + df['IE PID'] + \"/\" + df['REP PID'] + \"/\" + df['FL PID'] + \"_\" + df['NAME']"
   ]
  },
  {
   "cell_type": "code",
   "execution_count": null,
   "id": "e91be5c2-d4a0-4159-90ec-62e5be82bc85",
   "metadata": {},
   "outputs": [
    {
     "data": {
      "application/vnd.jupyter.widget-view+json": {
       "model_id": "5be7ad48e5864d40b03a4aaa752cd750",
       "version_major": 2,
       "version_minor": 0
      },
      "text/plain": [
       "0it [00:00, ?it/s]"
      ]
     },
     "metadata": {},
     "output_type": "display_data"
    }
   ],
   "source": [
    "for path, s_path in tqdm(zip(df['mango_path'], df['server_path'])):\n",
    "    if os.path.exists(s_path):\n",
    "        continue\n",
    "    os.makedirs(os.path.dirname(s_path), exist_ok=True)\n",
    "    session.data_objects.get(path, s_path)"
   ]
  },
  {
   "cell_type": "code",
   "execution_count": null,
   "id": "8e5a1446-561a-4ea3-8397-690c6046f4bc",
   "metadata": {},
   "outputs": [],
   "source": []
  }
 ],
 "metadata": {
  "kernelspec": {
   "display_name": "irods",
   "language": "python",
   "name": "irods"
  },
  "language_info": {
   "codemirror_mode": {
    "name": "ipython",
    "version": 3
   },
   "file_extension": ".py",
   "mimetype": "text/x-python",
   "name": "python",
   "nbconvert_exporter": "python",
   "pygments_lexer": "ipython3",
   "version": "3.10.9"
  }
 },
 "nbformat": 4,
 "nbformat_minor": 5
}
